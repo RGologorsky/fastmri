{
  "nbformat": 4,
  "nbformat_minor": 0,
  "metadata": {
    "colab": {
      "name": "DeepPit ROI.ipynb",
      "provenance": [],
      "authorship_tag": "ABX9TyMvuhr30dlCZZqNCK/T3n0x",
      "include_colab_link": true
    },
    "kernelspec": {
      "name": "python3",
      "display_name": "Python 3"
    }
  },
  "cells": [
    {
      "cell_type": "markdown",
      "metadata": {
        "id": "view-in-github",
        "colab_type": "text"
      },
      "source": [
        "<a href=\"https://colab.research.google.com/github/RGologorsky/fastmri/blob/master/DeepPit_ROI.ipynb\" target=\"_parent\"><img src=\"https://colab.research.google.com/assets/colab-badge.svg\" alt=\"Open In Colab\"/></a>"
      ]
    },
    {
      "cell_type": "code",
      "metadata": {
        "colab": {
          "base_uri": "https://localhost:8080/"
        },
        "id": "HL3LJsy0uvF7",
        "outputId": "113fec51-5ae5-4ee7-e1db-36083cecf96b"
      },
      "source": [
        "# Mount Google Drive\r\n",
        "from google.colab import drive\r\n",
        "from pathlib import Path \r\n",
        "\r\n",
        "ROOT = \"/content/drive\"    \r\n",
        "drive.mount(ROOT)\r\n",
        "\r\n",
        "# Useful paths\r\n",
        "PROJ_PATH            = Path(ROOT)/\"My Drive/PitProj/\"\r\n",
        "DICOM_FOLDER         = PROJ_PATH/'fastMRI_brain_DICOM'\r\n",
        "MULTICOIL_VAL_FOLDER = PROJ_PATH/'multicoil_val'"
      ],
      "execution_count": 1,
      "outputs": [
        {
          "output_type": "stream",
          "text": [
            "Mounted at /content/drive\n"
          ],
          "name": "stdout"
        }
      ]
    },
    {
      "cell_type": "markdown",
      "metadata": {
        "id": "tdRLnakAuHqI"
      },
      "source": [
        "# Binary Mask ROI\r\n",
        "\r\n",
        "Generate ROI as numpy binary mask from a Slicer segmentation obj"
      ]
    },
    {
      "cell_type": "markdown",
      "metadata": {
        "id": "bv41CsZTurik"
      },
      "source": [
        "# Data\r\n",
        "\r\n",
        "Data is a paired Nifti file with a Slicer segmentation object."
      ]
    },
    {
      "cell_type": "code",
      "metadata": {
        "id": "pYoFEUQRIs1Y"
      },
      "source": [
        "%%capture\r\n",
        "\r\n",
        "# pip install \r\n",
        "!pip install meshio\r\n",
        "!pip install nibabel\r\n",
        "!pip install nilearn"
      ],
      "execution_count": 4,
      "outputs": []
    },
    {
      "cell_type": "code",
      "metadata": {
        "colab": {
          "base_uri": "https://localhost:8080/"
        },
        "id": "eHRr55T2HEba",
        "outputId": "dbc382de-4085-4d51-8dbc-e10c1444dcbd"
      },
      "source": [
        "# imports\r\n",
        "import numpy as np\r\n",
        "import nibabel as nib\r\n",
        "import nilearn as nil\r\n",
        "\r\n",
        "from nibabel.affines import apply_affine\r\n",
        "from scipy.spatial   import ConvexHull, Delaunay\r\n",
        "\r\n",
        "import meshio\r\n",
        "\r\n",
        "# choose nii file + segmentation obj\r\n",
        "nii_folder = f\"{PROJ_PATH}/play\"\r\n",
        "nii_file = f\"{nii_folder}/ABIDE_50454_MRI_MP-RAGE_br_raw_20120830175600888_S164683_I328693 (1).nii\"\r\n",
        "seg_file = f\"{nii_folder}/Segmentation.obj\"\r\n",
        "\r\n",
        "# underling MR info (is LAS+, change to RAS+ coords?)\r\n",
        "nii_arr = nib.load(nii_file)\r\n",
        "print(\"NifTi coord system (original):\", nib.aff2axcodes(nii_arr.affine), sep=\" \")\r\n",
        "print(\"MR shape: \", nii_arr.shape, \" (axial, sagittal, coronal)\")"
      ],
      "execution_count": 59,
      "outputs": [
        {
          "output_type": "stream",
          "text": [
            "NifTi coord system (original): ('L', 'A', 'S')\n",
            "MR shape:  (160, 480, 512)  (axial, sagittal, coronal)\n"
          ],
          "name": "stdout"
        }
      ]
    },
    {
      "cell_type": "markdown",
      "metadata": {
        "id": "BiPsjJQdAJKA"
      },
      "source": [
        "# Vectorized ROI\r\n",
        "\r\n",
        "Convert Slicer ROI obj ==> numpy binary mask.\r\n",
        "\r\n",
        "Alg:\r\n",
        "- inputs:\r\n",
        "  - 3d numpy voxel arr reprsenting MR\r\n",
        "  - Slicer obj = mesh = a set of points (\"a collection of vertices and triangles that define the shape of a polyhedral object\")\r\n",
        "\r\n",
        "The set of points in the mesh are given in realworld coords. Hence:\r\n",
        "1. Compute triangulation of points in the mesh (the polyehdral obj). \r\n",
        "2. For each voxel in MR (index ijk in the np arr),\r\n",
        "  - convert voxel coord to real-world coord\r\n",
        "  - check if real-world point is within the polyhedral obj defined by the mesh\r\n",
        "\r\n",
        "Vectorized:\r\n",
        "- generate all voxel indices at once (np.indices instead of for loops)\r\n",
        "- compute real-world affine transform on all voxel indices at once (matrix multiply)\r\n",
        "- compute if real-world location is within polyhedral obj for all points at once\r\n",
        "\r\n",
        "Time savings: >30min => under 15secs"
      ]
    },
    {
      "cell_type": "code",
      "metadata": {
        "id": "qovblmeS02S4"
      },
      "source": [
        "def vectorized_balaji_segmenter(image_path, segmentation_path):\r\n",
        "\r\n",
        "  # import the .nii object\r\n",
        "  dicom_img = nib.load(image_path)\r\n",
        "\r\n",
        "  # import the segmentation mesh\r\n",
        "  segmentation_mesh = meshio.read(segmentation_path)\r\n",
        "\r\n",
        "  # Compute Delaunay triangulation of points.\r\n",
        "  tri = Delaunay(segmentation_mesh.points)\r\n",
        "\r\n",
        "  # define the voxel - realworld mappings \r\n",
        "  voxel_to_realworld_transform = dicom_img.affine\r\n",
        "  realworld_to_voxel_transform = np.linalg.inv(voxel_to_realworld_transform)\r\n",
        "\r\n",
        "  # initialize numpy arrays\r\n",
        "  dicom_img_numpy_array = np.array(dicom_img.get_fdata())\r\n",
        "  binary_segmentation_mask = np.zeros_like(dicom_img_numpy_array, dtype=np.bool_)\r\n",
        "\r\n",
        "  # if you want to spot test a single slice, set the range to \"range(80, dicom.shape[0])\" this is a slice in the middle of the\r\n",
        "  # MRI image which should be segmented. Then, uncomment the show_slices line to see the MRI and the segmentation\r\n",
        "\r\n",
        "  # for readability\r\n",
        "  shape0, shape1, shape2 = dicom_img_numpy_array.shape\r\n",
        "\r\n",
        "  # from SO: https://stackoverflow.com/questions/12864445/how-to-convert-the-output-of-meshgrid-to-the-corresponding-array-of-points\r\n",
        "  # equiv: np.array([(i,j,k) for i in range(shape0) for j in range(shape1) for k in range(shape2)])\r\n",
        "  #voxel_location_array = np.array(np.meshgrid(range(shape0), range(shape1), range(shape2), indexing='ij')).T.reshape(-1, 3)[:,[2,1,0]]\r\n",
        "  voxel_location_array = np.indices((shape2, shape1, shape0)).T.reshape(-1,3)[:,[2,1,0]]\r\n",
        "  realworld_location_array = apply_affine(voxel_to_realworld_transform, voxel_location_array)\r\n",
        "  binary_segmentation_mask = (tri.find_simplex(realworld_location_array) >= 0).reshape(shape0, shape1, shape2)\r\n",
        "\r\n",
        "  return dicom_img_numpy_array, binary_segmentation_mask"
      ],
      "execution_count": 90,
      "outputs": []
    },
    {
      "cell_type": "markdown",
      "metadata": {
        "id": "aRB4r7xYASW8"
      },
      "source": [
        "# Test"
      ]
    },
    {
      "cell_type": "code",
      "metadata": {
        "colab": {
          "base_uri": "https://localhost:8080/"
        },
        "id": "0xl0HrX_CJzR",
        "outputId": "d586ce5a-f763-4e33-9099-1b37fa4dc9e3"
      },
      "source": [
        "%time rachel_np_arr, rachel_bin_mask = vectorized_balaji_segmenter(nii_file, seg_file)"
      ],
      "execution_count": 91,
      "outputs": [
        {
          "output_type": "stream",
          "text": [
            "CPU times: user 12.8 s, sys: 1.16 s, total: 14 s\n",
            "Wall time: 12.5 s\n"
          ],
          "name": "stdout"
        }
      ]
    },
    {
      "cell_type": "code",
      "metadata": {
        "colab": {
          "base_uri": "https://localhost:8080/"
        },
        "id": "BTzCYaMGlQXB",
        "outputId": "c2deefd9-b832-4d35-bdc3-7163ada2e127"
      },
      "source": [
        "orig_np_arr = np.load(f\"{PROJ_PATH}/dicom_img_numpy_array.npy\")\r\n",
        "orig_bin_mask = np.load(f\"{PROJ_PATH}/binary_segmentation_mask.npy\")\r\n",
        "\r\n",
        "print(f\"Original np arr shape: {orig_np_arr.shape}, original binary mask shape: {orig_bin_mask.shape}\")\r\n",
        "print(f\"rachel np arr shape: {rachel_np_arr.shape}, rachel binary mask shape: {rachel_bin_mask.shape}\")\r\n",
        "\r\n",
        "print(f\"Input np arr equal? \", np.array_equal(orig_np_arr, rachel_np_arr))\r\n",
        "print(f\"Output binary mask equal?\" , np.array_equal(orig_bin_mask, rachel_bin_mask))"
      ],
      "execution_count": 92,
      "outputs": [
        {
          "output_type": "stream",
          "text": [
            "Original np arr shape: (160, 480, 512), original binary mask shape: (160, 480, 512)\n",
            "rachel np arr shape: (160, 480, 512), rachel binary mask shape: (160, 480, 512)\n",
            "Input np arr equal?  True\n",
            "Output binary mask equal? True\n"
          ],
          "name": "stdout"
        }
      ]
    }
  ]
}