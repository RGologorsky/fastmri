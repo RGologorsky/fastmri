{
  "nbformat": 4,
  "nbformat_minor": 0,
  "metadata": {
    "colab": {
      "name": "common_archs.ipynb",
      "provenance": [],
      "collapsed_sections": [],
      "authorship_tag": "ABX9TyOeUUKRHdrjVZUXxSLz7tuK",
      "include_colab_link": true
    },
    "kernelspec": {
      "name": "python3",
      "display_name": "Python 3"
    }
  },
  "cells": [
    {
      "cell_type": "markdown",
      "metadata": {
        "id": "view-in-github",
        "colab_type": "text"
      },
      "source": [
        "<a href=\"https://colab.research.google.com/github/RGologorsky/fastmri/blob/master/common_archs.ipynb\" target=\"_parent\"><img src=\"https://colab.research.google.com/assets/colab-badge.svg\" alt=\"Open In Colab\"/></a>"
      ]
    },
    {
      "cell_type": "code",
      "metadata": {
        "id": "HCWPBh8VcSev",
        "colab_type": "code",
        "colab": {}
      },
      "source": [
        "# conv layer consists of 2dconv + batchnorm + activation ReLU\n",
        "def conv(ni, nf, ks=3, act=True):\n",
        "  layers = [nn.Conv2d(ni, nf, stride=2, kernel_size=ks, padding=ks//2)]\n",
        "  layers.append(nn.BatchNorm2d(nf))\n",
        "  if act: layers.append(nn.ReLU())\n",
        "  return nn.Sequential(*layers)\n",
        "\n",
        "# simple cnn = stride 2, 3x3 kernel conv layers\n",
        "def get_simple_cnn(c_in, n_out, sz, intro_nf=8, intro_ks=5):\n",
        "  layers = []\n",
        "  # add intro layer (size 2)\n",
        "  if sz > 2: \n",
        "    layers.append(conv(c_in, nf=intro_nf, ks=intro_ks))\n",
        "    curr_ni, curr_sz = intro_nf, sz//2\n",
        "  # add middle layers (stride 2: double #input features, halve size)\n",
        "  while curr_sz >= 4:\n",
        "    layers.append(conv(curr_ni, curr_ni*2))\n",
        "    curr_ni, curr_sz = curr_ni*2, curr_sz//2\n",
        "  # add final stride-2 output layer & flatten\n",
        "  layers += [conv(curr_ni, n_out, act=False), Flatten()]\n",
        "  return nn.Sequential(*layers)"
      ],
      "execution_count": 0,
      "outputs": []
    }
  ]
}