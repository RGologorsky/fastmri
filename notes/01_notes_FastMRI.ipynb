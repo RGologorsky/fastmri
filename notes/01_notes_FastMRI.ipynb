{
  "nbformat": 4,
  "nbformat_minor": 0,
  "metadata": {
    "colab": {
      "name": "01_notes_FastMRI.ipynb",
      "provenance": [],
      "authorship_tag": "ABX9TyOwV9q7pmayWxBRRdyjXs0P",
      "include_colab_link": true
    },
    "kernelspec": {
      "name": "python3",
      "display_name": "Python 3"
    }
  },
  "cells": [
    {
      "cell_type": "markdown",
      "metadata": {
        "id": "view-in-github",
        "colab_type": "text"
      },
      "source": [
        "<a href=\"https://colab.research.google.com/github/RGologorsky/fastmri/blob/master/notes/01_notes_FastMRI.ipynb\" target=\"_parent\"><img src=\"https://colab.research.google.com/assets/colab-badge.svg\" alt=\"Open In Colab\"/></a>"
      ]
    },
    {
      "cell_type": "markdown",
      "metadata": {
        "id": "4BwqkDCnL9T-",
        "colab_type": "text"
      },
      "source": [
        "# Goal"
      ]
    },
    {
      "cell_type": "code",
      "metadata": {
        "id": "IEhv1lrTMAil",
        "colab_type": "code",
        "colab": {}
      },
      "source": [
        "# Background\n",
        "\n",
        "quick summary - https://www.youtube.com/watch?v=9qgUP8IJePA\n",
        "physics -- https://www.youtube.com/watch?v=XJvVnlMv1LQ\n",
        "\n",
        "schematic - Einstein Colllege of Medicine - https://www.youtube.com/watch?v=03x4xdUBo_Q\n",
        "K space is a graphical representation."
      ],
      "execution_count": 0,
      "outputs": []
    },
    {
      "cell_type": "code",
      "metadata": {
        "id": "WN-0NbRnQrTw",
        "colab_type": "code",
        "colab": {}
      },
      "source": [
        "k space: description of object as sum of stripe patterns\n",
        "stripe pattern: pulse in gradient electromagnetic field causes echo"
      ],
      "execution_count": 0,
      "outputs": []
    },
    {
      "cell_type": "code",
      "metadata": {
        "id": "gjSGTLqHQ-Wi",
        "colab_type": "code",
        "colab": {}
      },
      "source": [
        ""
      ],
      "execution_count": 0,
      "outputs": []
    }
  ]
}