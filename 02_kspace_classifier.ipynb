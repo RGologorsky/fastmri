{
  "nbformat": 4,
  "nbformat_minor": 0,
  "metadata": {
    "colab": {
      "name": "02_kspace_classifier.ipynb",
      "provenance": [],
      "collapsed_sections": [],
      "toc_visible": true,
      "mount_file_id": "1TFzZYdlUtpShiruS9ZnNYnTHFyp6VJla",
      "authorship_tag": "ABX9TyNdtR7jxeht91VkWwdqcKvq",
      "include_colab_link": true
    },
    "kernelspec": {
      "name": "python3",
      "display_name": "Python 3"
    }
  },
  "cells": [
    {
      "cell_type": "markdown",
      "metadata": {
        "id": "view-in-github",
        "colab_type": "text"
      },
      "source": [
        "<a href=\"https://colab.research.google.com/github/RGologorsky/fastmri/blob/master/02_kspace_classifier.ipynb\" target=\"_parent\"><img src=\"https://colab.research.google.com/assets/colab-badge.svg\" alt=\"Open In Colab\"/></a>"
      ]
    },
    {
      "cell_type": "markdown",
      "metadata": {
        "id": "GhcmjtAuMFPH",
        "colab_type": "text"
      },
      "source": [
        "## Tackling Imagenette in Kspace\n",
        "\n",
        "- Can a CNN learn to classify given kspace as input?\n",
        "- Do data augs in kspace help?"
      ]
    },
    {
      "cell_type": "markdown",
      "metadata": {
        "id": "bpDZhA5-PQ2j",
        "colab_type": "text"
      },
      "source": [
        "## Setup"
      ]
    },
    {
      "cell_type": "code",
      "metadata": {
        "id": "272Tupnw1FCb",
        "colab_type": "code",
        "colab": {}
      },
      "source": [
        "PROJ       = \"fastmri\""
      ],
      "execution_count": 0,
      "outputs": []
    },
    {
      "cell_type": "code",
      "metadata": {
        "colab_type": "code",
        "outputId": "b897ea8c-e163-4be3-d8fd-bea6d07b3f5b",
        "id": "zSm9JxLKHAIf",
        "colab": {
          "base_uri": "https://localhost:8080/",
          "height": 121
        }
      },
      "source": [
        "# Mount Google Drive\n",
        "from google.colab import drive # import drive from google colab\n",
        "from pathlib import Path \n",
        "\n",
        "ROOT = \"/content/drive\"     # default location for the drive\n",
        "drive.mount(ROOT)           # mount google drive at /content/drive"
      ],
      "execution_count": 2,
      "outputs": [
        {
          "output_type": "stream",
          "text": [
            "Go to this URL in a browser: https://accounts.google.com/o/oauth2/auth?client_id=947318989803-6bn6qk8qdgf4n4g3pfee6491hc0brc4i.apps.googleusercontent.com&redirect_uri=urn%3aietf%3awg%3aoauth%3a2.0%3aoob&response_type=code&scope=email%20https%3a%2f%2fwww.googleapis.com%2fauth%2fdocs.test%20https%3a%2f%2fwww.googleapis.com%2fauth%2fdrive%20https%3a%2f%2fwww.googleapis.com%2fauth%2fdrive.photos.readonly%20https%3a%2f%2fwww.googleapis.com%2fauth%2fpeopleapi.readonly\n",
            "\n",
            "Enter your authorization code:\n",
            "··········\n",
            "Mounted at /content/drive\n"
          ],
          "name": "stdout"
        }
      ]
    },
    {
      "cell_type": "code",
      "metadata": {
        "colab_type": "code",
        "id": "IJmNJvZ0HAIo",
        "colab": {}
      },
      "source": [
        "ALL_PROJ_PATH = Path(ROOT)/\"My Drive/fastai_proj/\"  # path to all projects \n",
        "PROJ_PATH   = ALL_PROJ_PATH/PROJ                    # path to project on PROJ\n",
        "PROJ_PATH.mkdir(parents=True, exist_ok=True)        # make dir in PROJ to house Github"
      ],
      "execution_count": 0,
      "outputs": []
    },
    {
      "cell_type": "code",
      "metadata": {
        "id": "R4XiKln8MW-R",
        "colab_type": "code",
        "outputId": "44c10020-fddc-411c-8541-f2a5ddd9c18d",
        "colab": {
          "base_uri": "https://localhost:8080/",
          "height": 118
        }
      },
      "source": [
        "%run \"$PROJ_PATH/common_constants_env.ipynb\" # pip install fastai, fastmri, etc"
      ],
      "execution_count": 4,
      "outputs": [
        {
          "output_type": "stream",
          "text": [
            "pip install fastai2\n",
            "git clone fastMRI\n",
            "pip install ISMRMRD\n",
            "pip install fasMRI req\n",
            "sys append /content/fastMRI\n",
            "imports\n"
          ],
          "name": "stdout"
        }
      ]
    },
    {
      "cell_type": "code",
      "metadata": {
        "id": "IY1EhfIfjI4R",
        "colab_type": "code",
        "colab": {}
      },
      "source": [
        "%run \"$PROJ_PATH/01_kspace_tfms.ipynb\" # get the kspace tfms"
      ],
      "execution_count": 0,
      "outputs": []
    },
    {
      "cell_type": "markdown",
      "metadata": {
        "id": "pH04ar1xoPBf",
        "colab_type": "text"
      },
      "source": [
        "## Data"
      ]
    },
    {
      "cell_type": "code",
      "metadata": {
        "id": "xHS_yP7toU-e",
        "colab_type": "code",
        "colab": {}
      },
      "source": [
        "path = untar_data(URLs.IMAGENETTE_160)\n",
        "fnames = get_image_files(path)"
      ],
      "execution_count": 0,
      "outputs": []
    },
    {
      "cell_type": "code",
      "metadata": {
        "id": "SDWRuZknojiM",
        "colab_type": "code",
        "outputId": "2608ca1e-c55b-4bfa-a9a3-33169be308b5",
        "colab": {
          "base_uri": "https://localhost:8080/",
          "height": 34
        }
      },
      "source": [
        "fn_test = fnames[0]\n",
        "fn_test"
      ],
      "execution_count": 12,
      "outputs": [
        {
          "output_type": "execute_result",
          "data": {
            "text/plain": [
              "Path('/root/.fastai/data/imagenette2-160/val/n02102040/n02102040_4250.JPEG')"
            ]
          },
          "metadata": {
            "tags": []
          },
          "execution_count": 12
        }
      ]
    },
    {
      "cell_type": "markdown",
      "metadata": {
        "id": "uEq2X8hpjQV5",
        "colab_type": "text"
      },
      "source": [
        "# Create dataset\n",
        "\n",
        "1. raw items (fnames)\n",
        "2. tfm list for x (BW Image)\n",
        "3. tfm list for y (fn -> label dict -> Category)\n",
        "4. training/valid split (by folder)\n",
        "\n",
        "# Create dataloaders\n",
        "\n",
        "- item-tfms: prepare for batching, tensors of uniform size (ToTensor, RandomResizedCrop)\n",
        "- batch-tfms: data augs, TensorTfms.real2k, normalize\n"
      ]
    },
    {
      "cell_type": "code",
      "metadata": {
        "id": "UkQfr5Ey60CC",
        "colab_type": "code",
        "colab": {}
      },
      "source": [
        "# convert filename stem to category\n",
        "lbl_dict = dict(\n",
        "    n01440764='tench',\n",
        "    n02102040='English springer',\n",
        "    n02979186='cassette player',\n",
        "    n03000684='chain saw',\n",
        "    n03028079='church',\n",
        "    n03394916='French horn',\n",
        "    n03417042='garbage truck',\n",
        "    n03425413='gas pump',\n",
        "    n03445777='golf ball',\n",
        "    n03888257='parachute'\n",
        ")"
      ],
      "execution_count": 0,
      "outputs": []
    },
    {
      "cell_type": "code",
      "metadata": {
        "id": "wgWEWDfbVDn1",
        "colab_type": "code",
        "colab": {}
      },
      "source": [
        "??T.ifft2"
      ],
      "execution_count": 0,
      "outputs": []
    },
    {
      "cell_type": "code",
      "metadata": {
        "id": "Bh-DmCUSG1Fc",
        "colab_type": "code",
        "colab": {}
      },
      "source": [
        "# take dataset item (real img, category), convert to (k arr, category)\n",
        "class Real2K(Transform):\n",
        "  order = 1\n",
        "  def encodes(self, im:PILImageBW, permute=True):\n",
        "    return apply(im, TensorTfms.real2k, pre=TensorTfms.im2arr)\n",
        "\n",
        "# permute tensor: HW(Complex) to (Complex)HW\n",
        "class Permute(Transform):\n",
        "  order = 1\n",
        "  def encodes(self, t:Tensor):\n",
        "    if t.size(-1) == 2: return t.transpose(-1,-3).transpose(-1,-2)\n",
        "    return t\n",
        "\n",
        "  def decodes(self, t:Tensor):\n",
        "    if t.size(-1) == 2: return t.transpose(-1,-2).transpose(-1,-3)\n",
        "    return t"
      ],
      "execution_count": 0,
      "outputs": []
    },
    {
      "cell_type": "code",
      "metadata": {
        "id": "Sh3icqYRwRik",
        "colab_type": "code",
        "colab": {}
      },
      "source": [
        "# define dataset\n",
        "raw_items = fnames[0:20]\n",
        "x_tfms = [PILImageBW.create]\n",
        "y_tfms = [parent_label, lbl_dict.__getitem__, Categorize]\n",
        "\n",
        "#splits = GrandparentSplitter(valid_name=\"val\")(raw_items)\n",
        "splits  = RandomSplitter(valid_pct=0.2, seed=42)(raw_items)\n",
        "\n",
        "# define dataloaders\n",
        "item_tfms  = [ToTensor, RandomResizedCrop(128, min_scale=0.35)]\n",
        "batch_tfms = [Real2K, Permute] # Normalize? Real2K,\n",
        "\n",
        "# define parameters\n",
        "bs = 5\n",
        "num_workers = 1"
      ],
      "execution_count": 0,
      "outputs": []
    },
    {
      "cell_type": "code",
      "metadata": {
        "id": "-rUeMIU8TCCb",
        "colab_type": "code",
        "colab": {}
      },
      "source": [
        "x = Pipeline([*x_tfms, *item_tfms, *batch_tfms])(fn_test)"
      ],
      "execution_count": 0,
      "outputs": []
    },
    {
      "cell_type": "code",
      "metadata": {
        "id": "6qW1aLWiTNq8",
        "colab_type": "code",
        "colab": {
          "base_uri": "https://localhost:8080/",
          "height": 34
        },
        "outputId": "eeda7d67-aea3-4f2d-97a1-22bb87e837a2"
      },
      "source": [
        "x.shape"
      ],
      "execution_count": 213,
      "outputs": [
        {
          "output_type": "execute_result",
          "data": {
            "text/plain": [
              "torch.Size([2, 128, 65])"
            ]
          },
          "metadata": {
            "tags": []
          },
          "execution_count": 213
        }
      ]
    },
    {
      "cell_type": "code",
      "metadata": {
        "id": "61R1hnjYTUdd",
        "colab_type": "code",
        "colab": {}
      },
      "source": [
        "xb = TfmdLists(raw_items, Pipeline([*x_tfms, *item_tfms, *batch_tfms]))"
      ],
      "execution_count": 0,
      "outputs": []
    },
    {
      "cell_type": "code",
      "metadata": {
        "id": "zeIn8-0OTlaZ",
        "colab_type": "code",
        "colab": {
          "base_uri": "https://localhost:8080/",
          "height": 34
        },
        "outputId": "2d77d486-712f-4f16-e670-fa32b5d12b1c"
      },
      "source": [
        "xb.train[0].shape"
      ],
      "execution_count": 215,
      "outputs": [
        {
          "output_type": "execute_result",
          "data": {
            "text/plain": [
              "torch.Size([2, 128, 65])"
            ]
          },
          "metadata": {
            "tags": []
          },
          "execution_count": 215
        }
      ]
    },
    {
      "cell_type": "code",
      "metadata": {
        "id": "62OooSGHT00h",
        "colab_type": "code",
        "colab": {}
      },
      "source": [
        "xbt = torch.stack(tuple(xb.train), dim=0)"
      ],
      "execution_count": 0,
      "outputs": []
    },
    {
      "cell_type": "code",
      "metadata": {
        "id": "bRrN9hF0T_yO",
        "colab_type": "code",
        "colab": {
          "base_uri": "https://localhost:8080/",
          "height": 34
        },
        "outputId": "7e9199f7-2734-4a00-acd5-f9463eed1719"
      },
      "source": [
        "xbt.shape"
      ],
      "execution_count": 217,
      "outputs": [
        {
          "output_type": "execute_result",
          "data": {
            "text/plain": [
              "torch.Size([20, 2, 128, 65])"
            ]
          },
          "metadata": {
            "tags": []
          },
          "execution_count": 217
        }
      ]
    },
    {
      "cell_type": "code",
      "metadata": {
        "id": "KlTwWb_wI1DE",
        "colab_type": "code",
        "colab": {
          "base_uri": "https://localhost:8080/",
          "height": 34
        },
        "outputId": "681e622d-4ff1-4bc5-89c9-c286f6483eb8"
      },
      "source": [
        "splits"
      ],
      "execution_count": 218,
      "outputs": [
        {
          "output_type": "execute_result",
          "data": {
            "text/plain": [
              "((#16) [1,10,0,4,6,11,8,3,7,17...], (#4) [2,14,18,15])"
            ]
          },
          "metadata": {
            "tags": []
          },
          "execution_count": 218
        }
      ]
    },
    {
      "cell_type": "code",
      "metadata": {
        "id": "vZ4HZXGgvmKA",
        "colab_type": "code",
        "colab": {}
      },
      "source": [
        "dsets = Datasets(raw_items, tfms = [x_tfms, y_tfms], splits=splits)"
      ],
      "execution_count": 0,
      "outputs": []
    },
    {
      "cell_type": "code",
      "metadata": {
        "id": "y3so7SiTFcQJ",
        "colab_type": "code",
        "colab": {
          "base_uri": "https://localhost:8080/",
          "height": 267
        },
        "outputId": "234c37d5-5f50-41d7-a0e1-516ff21cb43b"
      },
      "source": [
        "dsets.show(dsets[0])"
      ],
      "execution_count": 220,
      "outputs": [
        {
          "output_type": "execute_result",
          "data": {
            "text/plain": [
              "<matplotlib.axes._subplots.AxesSubplot at 0x7fda599d9b00>"
            ]
          },
          "metadata": {
            "tags": []
          },
          "execution_count": 220
        },
        {
          "output_type": "display_data",
          "data": {
            "image/png": "[encoded data removed]",
            "text/plain": [
              "<Figure size 360x360 with 1 Axes>"
            ]
          },
          "metadata": {
            "tags": [],
            "needs_background": "light"
          }
        }
      ]
    },
    {
      "cell_type": "code",
      "metadata": {
        "id": "gMqMJDAoCMMf",
        "colab_type": "code",
        "colab": {}
      },
      "source": [
        "dls = dsets.dataloaders(after_item = item_tfms, \n",
        "                        after_batch = batch_tfms, \n",
        "                        bs=bs, num_workers = num_workers)"
      ],
      "execution_count": 0,
      "outputs": []
    },
    {
      "cell_type": "code",
      "metadata": {
        "id": "4jNLMbLRSx6b",
        "colab_type": "code",
        "colab": {
          "base_uri": "https://localhost:8080/",
          "height": 34
        },
        "outputId": "e0cb2e25-392e-47e4-9880-12f6b9746e87"
      },
      "source": [
        "dls.train_ds[0]"
      ],
      "execution_count": 222,
      "outputs": [
        {
          "output_type": "execute_result",
          "data": {
            "text/plain": [
              "(PILImageBW mode=L size=191x160, TensorCategory(0))"
            ]
          },
          "metadata": {
            "tags": []
          },
          "execution_count": 222
        }
      ]
    },
    {
      "cell_type": "code",
      "metadata": {
        "id": "2LJKKLRpS22x",
        "colab_type": "code",
        "colab": {}
      },
      "source": [
        "xb,yb = dls.one_batch()"
      ],
      "execution_count": 0,
      "outputs": []
    },
    {
      "cell_type": "code",
      "metadata": {
        "id": "Yaa-ggLgXcJS",
        "colab_type": "code",
        "colab": {
          "base_uri": "https://localhost:8080/",
          "height": 34
        },
        "outputId": "6b17a95c-274b-4b50-dd1c-ad9bffcf958e"
      },
      "source": [
        "xb.shape"
      ],
      "execution_count": 227,
      "outputs": [
        {
          "output_type": "execute_result",
          "data": {
            "text/plain": [
              "torch.Size([5, 1, 128, 128])"
            ]
          },
          "metadata": {
            "tags": []
          },
          "execution_count": 227
        }
      ]
    },
    {
      "cell_type": "code",
      "metadata": {
        "id": "RpqAK-1wXdzO",
        "colab_type": "code",
        "colab": {}
      },
      "source": [
        "xbt = TfmdLists(xb, Pipeline([*batch_tfms]))"
      ],
      "execution_count": 0,
      "outputs": []
    },
    {
      "cell_type": "code",
      "metadata": {
        "id": "vPLAku16X3PM",
        "colab_type": "code",
        "colab": {
          "base_uri": "https://localhost:8080/",
          "height": 34
        },
        "outputId": "a72f7532-bf24-4f77-af3e-4b5ec660affb"
      },
      "source": [
        "xb.shape"
      ],
      "execution_count": 237,
      "outputs": [
        {
          "output_type": "execute_result",
          "data": {
            "text/plain": [
              "torch.Size([5, 1, 128, 128])"
            ]
          },
          "metadata": {
            "tags": []
          },
          "execution_count": 237
        }
      ]
    },
    {
      "cell_type": "code",
      "metadata": {
        "id": "GIx01hgBX90_",
        "colab_type": "code",
        "colab": {}
      },
      "source": [
        "xb_double = tensor(xb).double()"
      ],
      "execution_count": 0,
      "outputs": []
    },
    {
      "cell_type": "code",
      "metadata": {
        "id": "tL2sB5p3YDC4",
        "colab_type": "code",
        "colab": {
          "base_uri": "https://localhost:8080/",
          "height": 34
        },
        "outputId": "bf35574c-12b9-4868-b635-418f823853ae"
      },
      "source": [
        "type(xb_double), xb_double.shape"
      ],
      "execution_count": 239,
      "outputs": [
        {
          "output_type": "execute_result",
          "data": {
            "text/plain": [
              "(fastai2.torch_core.TensorImageBW, torch.Size([5, 1, 128, 128]))"
            ]
          },
          "metadata": {
            "tags": []
          },
          "execution_count": 239
        }
      ]
    },
    {
      "cell_type": "code",
      "metadata": {
        "id": "eDqdym3pYO3J",
        "colab_type": "code",
        "colab": {}
      },
      "source": [
        "xb_fft = TensorTfms.rfft2(xb_double)"
      ],
      "execution_count": 0,
      "outputs": []
    },
    {
      "cell_type": "code",
      "metadata": {
        "id": "A2vTRBj4YW6X",
        "colab_type": "code",
        "colab": {
          "base_uri": "https://localhost:8080/",
          "height": 34
        },
        "outputId": "7e50f28f-d752-449d-9756-bc727695186c"
      },
      "source": [
        "type(xb_fft), xb_fft.shape"
      ],
      "execution_count": 241,
      "outputs": [
        {
          "output_type": "execute_result",
          "data": {
            "text/plain": [
              "(torch.Tensor, torch.Size([5, 1, 128, 65, 2]))"
            ]
          },
          "metadata": {
            "tags": []
          },
          "execution_count": 241
        }
      ]
    },
    {
      "cell_type": "code",
      "metadata": {
        "id": "qkkQEXCDYc9r",
        "colab_type": "code",
        "colab": {}
      },
      "source": [
        "xb_shift = T.fftshift(xb_fft)"
      ],
      "execution_count": 0,
      "outputs": []
    },
    {
      "cell_type": "code",
      "metadata": {
        "id": "hOQTXVI1YHMa",
        "colab_type": "code",
        "colab": {
          "base_uri": "https://localhost:8080/",
          "height": 34
        },
        "outputId": "48018730-4150-462e-b8e9-ccd6efade090"
      },
      "source": [
        "type(xb_shift), xb_shift.shape"
      ],
      "execution_count": 243,
      "outputs": [
        {
          "output_type": "execute_result",
          "data": {
            "text/plain": [
              "(torch.Tensor, torch.Size([5, 1, 128, 65, 2]))"
            ]
          },
          "metadata": {
            "tags": []
          },
          "execution_count": 243
        }
      ]
    },
    {
      "cell_type": "code",
      "metadata": {
        "id": "j8MbJ_ntXu_r",
        "colab_type": "code",
        "colab": {
          "base_uri": "https://localhost:8080/",
          "height": 323
        },
        "outputId": "a5671b8c-c956-4ced-b55a-7a9dd345bbeb"
      },
      "source": [
        "res = Real2K(xb)"
      ],
      "execution_count": 235,
      "outputs": [
        {
          "output_type": "error",
          "ename": "RuntimeError",
          "evalue": "ignored",
          "traceback": [
            "\u001b[0;31m---------------------------------------------------------------------------\u001b[0m",
            "\u001b[0;31mRuntimeError\u001b[0m                              Traceback (most recent call last)",
            "\u001b[0;32m<ipython-input-235-f77235b6bbcb>\u001b[0m in \u001b[0;36m<module>\u001b[0;34m()\u001b[0m\n\u001b[0;32m----> 1\u001b[0;31m \u001b[0mres\u001b[0m \u001b[0;34m=\u001b[0m \u001b[0mReal2K\u001b[0m\u001b[0;34m(\u001b[0m\u001b[0mxb\u001b[0m\u001b[0;34m)\u001b[0m\u001b[0;34m\u001b[0m\u001b[0;34m\u001b[0m\u001b[0m\n\u001b[0m",
            "\u001b[0;32m/usr/local/lib/python3.6/dist-packages/fastcore/transform.py\u001b[0m in \u001b[0;36m__call__\u001b[0;34m(cls, *args, **kwargs)\u001b[0m\n\u001b[1;32m     36\u001b[0m             \u001b[0mgetattr\u001b[0m\u001b[0;34m(\u001b[0m\u001b[0mcls\u001b[0m\u001b[0;34m,\u001b[0m\u001b[0mn\u001b[0m\u001b[0;34m)\u001b[0m\u001b[0;34m.\u001b[0m\u001b[0madd\u001b[0m\u001b[0;34m(\u001b[0m\u001b[0mf\u001b[0m\u001b[0;34m)\u001b[0m\u001b[0;34m\u001b[0m\u001b[0;34m\u001b[0m\u001b[0m\n\u001b[1;32m     37\u001b[0m             \u001b[0;32mreturn\u001b[0m \u001b[0mf\u001b[0m\u001b[0;34m\u001b[0m\u001b[0;34m\u001b[0m\u001b[0m\n\u001b[0;32m---> 38\u001b[0;31m         \u001b[0;32mreturn\u001b[0m \u001b[0msuper\u001b[0m\u001b[0;34m(\u001b[0m\u001b[0;34m)\u001b[0m\u001b[0;34m.\u001b[0m\u001b[0m__call__\u001b[0m\u001b[0;34m(\u001b[0m\u001b[0;34m*\u001b[0m\u001b[0margs\u001b[0m\u001b[0;34m,\u001b[0m \u001b[0;34m**\u001b[0m\u001b[0mkwargs\u001b[0m\u001b[0;34m)\u001b[0m\u001b[0;34m\u001b[0m\u001b[0;34m\u001b[0m\u001b[0m\n\u001b[0m\u001b[1;32m     39\u001b[0m \u001b[0;34m\u001b[0m\u001b[0m\n\u001b[1;32m     40\u001b[0m     \u001b[0;34m@\u001b[0m\u001b[0mclassmethod\u001b[0m\u001b[0;34m\u001b[0m\u001b[0;34m\u001b[0m\u001b[0m\n",
            "\u001b[0;32m/usr/local/lib/python3.6/dist-packages/fastcore/transform.py\u001b[0m in \u001b[0;36m__init__\u001b[0;34m(self, enc, dec, split_idx, order)\u001b[0m\n\u001b[1;32m     57\u001b[0m         \u001b[0mself\u001b[0m\u001b[0;34m.\u001b[0m\u001b[0msplit_idx\u001b[0m \u001b[0;34m=\u001b[0m \u001b[0mifnone\u001b[0m\u001b[0;34m(\u001b[0m\u001b[0msplit_idx\u001b[0m\u001b[0;34m,\u001b[0m \u001b[0mself\u001b[0m\u001b[0;34m.\u001b[0m\u001b[0msplit_idx\u001b[0m\u001b[0;34m)\u001b[0m\u001b[0;34m\u001b[0m\u001b[0;34m\u001b[0m\u001b[0m\n\u001b[1;32m     58\u001b[0m         \u001b[0;32mif\u001b[0m \u001b[0morder\u001b[0m \u001b[0;32mis\u001b[0m \u001b[0;32mnot\u001b[0m \u001b[0;32mNone\u001b[0m\u001b[0;34m:\u001b[0m \u001b[0mself\u001b[0m\u001b[0;34m.\u001b[0m\u001b[0morder\u001b[0m\u001b[0;34m=\u001b[0m\u001b[0morder\u001b[0m\u001b[0;34m\u001b[0m\u001b[0;34m\u001b[0m\u001b[0m\n\u001b[0;32m---> 59\u001b[0;31m         \u001b[0mself\u001b[0m\u001b[0;34m.\u001b[0m\u001b[0minit_enc\u001b[0m \u001b[0;34m=\u001b[0m \u001b[0menc\u001b[0m \u001b[0;32mor\u001b[0m \u001b[0mdec\u001b[0m\u001b[0;34m\u001b[0m\u001b[0;34m\u001b[0m\u001b[0m\n\u001b[0m\u001b[1;32m     60\u001b[0m         \u001b[0;32mif\u001b[0m \u001b[0;32mnot\u001b[0m \u001b[0mself\u001b[0m\u001b[0;34m.\u001b[0m\u001b[0minit_enc\u001b[0m\u001b[0;34m:\u001b[0m \u001b[0;32mreturn\u001b[0m\u001b[0;34m\u001b[0m\u001b[0;34m\u001b[0m\u001b[0m\n\u001b[1;32m     61\u001b[0m \u001b[0;34m\u001b[0m\u001b[0m\n",
            "\u001b[0;32m/usr/local/lib/python3.6/dist-packages/fastai2/torch_core.py\u001b[0m in \u001b[0;36m_f\u001b[0;34m(self, *args, **kwargs)\u001b[0m\n\u001b[1;32m    270\u001b[0m         \u001b[0;32mdef\u001b[0m \u001b[0m_f\u001b[0m\u001b[0;34m(\u001b[0m\u001b[0mself\u001b[0m\u001b[0;34m,\u001b[0m \u001b[0;34m*\u001b[0m\u001b[0margs\u001b[0m\u001b[0;34m,\u001b[0m \u001b[0;34m**\u001b[0m\u001b[0mkwargs\u001b[0m\u001b[0;34m)\u001b[0m\u001b[0;34m:\u001b[0m\u001b[0;34m\u001b[0m\u001b[0;34m\u001b[0m\u001b[0m\n\u001b[1;32m    271\u001b[0m             \u001b[0mcls\u001b[0m \u001b[0;34m=\u001b[0m \u001b[0mself\u001b[0m\u001b[0;34m.\u001b[0m\u001b[0m__class__\u001b[0m\u001b[0;34m\u001b[0m\u001b[0;34m\u001b[0m\u001b[0m\n\u001b[0;32m--> 272\u001b[0;31m             \u001b[0mres\u001b[0m \u001b[0;34m=\u001b[0m \u001b[0mgetattr\u001b[0m\u001b[0;34m(\u001b[0m\u001b[0msuper\u001b[0m\u001b[0;34m(\u001b[0m\u001b[0mTensorBase\u001b[0m\u001b[0;34m,\u001b[0m \u001b[0mself\u001b[0m\u001b[0;34m)\u001b[0m\u001b[0;34m,\u001b[0m \u001b[0mfn\u001b[0m\u001b[0;34m)\u001b[0m\u001b[0;34m(\u001b[0m\u001b[0;34m*\u001b[0m\u001b[0margs\u001b[0m\u001b[0;34m,\u001b[0m \u001b[0;34m**\u001b[0m\u001b[0mkwargs\u001b[0m\u001b[0;34m)\u001b[0m\u001b[0;34m\u001b[0m\u001b[0;34m\u001b[0m\u001b[0m\n\u001b[0m\u001b[1;32m    273\u001b[0m             \u001b[0;32mreturn\u001b[0m \u001b[0mretain_type\u001b[0m\u001b[0;34m(\u001b[0m\u001b[0mres\u001b[0m\u001b[0;34m,\u001b[0m \u001b[0mself\u001b[0m\u001b[0;34m)\u001b[0m\u001b[0;34m\u001b[0m\u001b[0;34m\u001b[0m\u001b[0m\n\u001b[1;32m    274\u001b[0m         \u001b[0;32mreturn\u001b[0m \u001b[0m_f\u001b[0m\u001b[0;34m\u001b[0m\u001b[0;34m\u001b[0m\u001b[0m\n",
            "\u001b[0;31mRuntimeError\u001b[0m: bool value of Tensor with more than one value is ambiguous"
          ]
        }
      ]
    },
    {
      "cell_type": "code",
      "metadata": {
        "id": "UxxP1wOCXzwB",
        "colab_type": "code",
        "colab": {}
      },
      "source": [
        ""
      ],
      "execution_count": 0,
      "outputs": []
    },
    {
      "cell_type": "code",
      "metadata": {
        "id": "Xd-Y16ygXj6F",
        "colab_type": "code",
        "colab": {
          "base_uri": "https://localhost:8080/",
          "height": 34
        },
        "outputId": "badbd7e2-3a98-4f75-8d36-bf3753c7a1c8"
      },
      "source": [
        "xbt.train[0].shape"
      ],
      "execution_count": 233,
      "outputs": [
        {
          "output_type": "execute_result",
          "data": {
            "text/plain": [
              "torch.Size([1, 128, 128])"
            ]
          },
          "metadata": {
            "tags": []
          },
          "execution_count": 233
        }
      ]
    },
    {
      "cell_type": "code",
      "metadata": {
        "id": "9jBexemFXZtV",
        "colab_type": "code",
        "colab": {
          "base_uri": "https://localhost:8080/",
          "height": 162
        },
        "outputId": "5201d894-164b-4971-835a-781616b68da2"
      },
      "source": [
        "xbt.mean(dim=[0,2,3]),x.std(dim=[0,2,3])"
      ],
      "execution_count": 226,
      "outputs": [
        {
          "output_type": "error",
          "ename": "IndexError",
          "evalue": "ignored",
          "traceback": [
            "\u001b[0;31m---------------------------------------------------------------------------\u001b[0m",
            "\u001b[0;31mIndexError\u001b[0m                                Traceback (most recent call last)",
            "\u001b[0;32m<ipython-input-226-6d3abb85d5d7>\u001b[0m in \u001b[0;36m<module>\u001b[0;34m()\u001b[0m\n\u001b[0;32m----> 1\u001b[0;31m \u001b[0mx\u001b[0m\u001b[0;34m.\u001b[0m\u001b[0mmean\u001b[0m\u001b[0;34m(\u001b[0m\u001b[0mdim\u001b[0m\u001b[0;34m=\u001b[0m\u001b[0;34m[\u001b[0m\u001b[0;36m0\u001b[0m\u001b[0;34m,\u001b[0m\u001b[0;36m2\u001b[0m\u001b[0;34m,\u001b[0m\u001b[0;36m3\u001b[0m\u001b[0;34m]\u001b[0m\u001b[0;34m)\u001b[0m\u001b[0;34m,\u001b[0m\u001b[0mx\u001b[0m\u001b[0;34m.\u001b[0m\u001b[0mstd\u001b[0m\u001b[0;34m(\u001b[0m\u001b[0mdim\u001b[0m\u001b[0;34m=\u001b[0m\u001b[0;34m[\u001b[0m\u001b[0;36m0\u001b[0m\u001b[0;34m,\u001b[0m\u001b[0;36m2\u001b[0m\u001b[0;34m,\u001b[0m\u001b[0;36m3\u001b[0m\u001b[0;34m]\u001b[0m\u001b[0;34m)\u001b[0m\u001b[0;34m\u001b[0m\u001b[0;34m\u001b[0m\u001b[0m\n\u001b[0m",
            "\u001b[0;31mIndexError\u001b[0m: Dimension out of range (expected to be in range of [-3, 2], but got 3)"
          ]
        }
      ]
    },
    {
      "cell_type": "code",
      "metadata": {
        "id": "7XJWRzbOS4tl",
        "colab_type": "code",
        "colab": {
          "base_uri": "https://localhost:8080/",
          "height": 34
        },
        "outputId": "c45e552d-49b5-43b0-d0a6-73b9f3a05c34"
      },
      "source": [
        "xb.shape"
      ],
      "execution_count": 224,
      "outputs": [
        {
          "output_type": "execute_result",
          "data": {
            "text/plain": [
              "torch.Size([5, 1, 128, 128])"
            ]
          },
          "metadata": {
            "tags": []
          },
          "execution_count": 224
        }
      ]
    },
    {
      "cell_type": "code",
      "metadata": {
        "id": "DpfX6TLkWqm0",
        "colab_type": "code",
        "colab": {}
      },
      "source": [
        ""
      ],
      "execution_count": 0,
      "outputs": []
    },
    {
      "cell_type": "code",
      "metadata": {
        "id": "DLsn4b7GL0Ni",
        "colab_type": "code",
        "colab": {
          "base_uri": "https://localhost:8080/",
          "height": 924
        },
        "outputId": "50eae049-4354-4ed4-ce64-68fec937b4d9"
      },
      "source": [
        "%debug"
      ],
      "execution_count": 158,
      "outputs": [
        {
          "output_type": "stream",
          "text": [
            "> \u001b[0;32m/usr/local/lib/python3.6/dist-packages/fastai2/torch_core.py\u001b[0m(272)\u001b[0;36m_f\u001b[0;34m()\u001b[0m\n",
            "\u001b[0;32m    270 \u001b[0;31m        \u001b[0;32mdef\u001b[0m \u001b[0m_f\u001b[0m\u001b[0;34m(\u001b[0m\u001b[0mself\u001b[0m\u001b[0;34m,\u001b[0m \u001b[0;34m*\u001b[0m\u001b[0margs\u001b[0m\u001b[0;34m,\u001b[0m \u001b[0;34m**\u001b[0m\u001b[0mkwargs\u001b[0m\u001b[0;34m)\u001b[0m\u001b[0;34m:\u001b[0m\u001b[0;34m\u001b[0m\u001b[0;34m\u001b[0m\u001b[0m\n",
            "\u001b[0m\u001b[0;32m    271 \u001b[0;31m            \u001b[0mcls\u001b[0m \u001b[0;34m=\u001b[0m \u001b[0mself\u001b[0m\u001b[0;34m.\u001b[0m\u001b[0m__class__\u001b[0m\u001b[0;34m\u001b[0m\u001b[0;34m\u001b[0m\u001b[0m\n",
            "\u001b[0m\u001b[0;32m--> 272 \u001b[0;31m            \u001b[0mres\u001b[0m \u001b[0;34m=\u001b[0m \u001b[0mgetattr\u001b[0m\u001b[0;34m(\u001b[0m\u001b[0msuper\u001b[0m\u001b[0;34m(\u001b[0m\u001b[0mTensorBase\u001b[0m\u001b[0;34m,\u001b[0m \u001b[0mself\u001b[0m\u001b[0;34m)\u001b[0m\u001b[0;34m,\u001b[0m \u001b[0mfn\u001b[0m\u001b[0;34m)\u001b[0m\u001b[0;34m(\u001b[0m\u001b[0;34m*\u001b[0m\u001b[0margs\u001b[0m\u001b[0;34m,\u001b[0m \u001b[0;34m**\u001b[0m\u001b[0mkwargs\u001b[0m\u001b[0;34m)\u001b[0m\u001b[0;34m\u001b[0m\u001b[0;34m\u001b[0m\u001b[0m\n",
            "\u001b[0m\u001b[0;32m    273 \u001b[0;31m            \u001b[0;32mreturn\u001b[0m \u001b[0mretain_type\u001b[0m\u001b[0;34m(\u001b[0m\u001b[0mres\u001b[0m\u001b[0;34m,\u001b[0m \u001b[0mself\u001b[0m\u001b[0;34m)\u001b[0m\u001b[0;34m\u001b[0m\u001b[0;34m\u001b[0m\u001b[0m\n",
            "\u001b[0m\u001b[0;32m    274 \u001b[0;31m        \u001b[0;32mreturn\u001b[0m \u001b[0m_f\u001b[0m\u001b[0;34m\u001b[0m\u001b[0;34m\u001b[0m\u001b[0m\n",
            "\u001b[0m\n",
            "ipdb> cls\n",
            "<class 'fastai2.torch_core.TensorImageBW'>\n",
            "ipdb> self\n",
            "TensorImageBW([[[[174, 199, 205,  ...,  92, 129, 180],\n",
            "          [163, 180, 197,  ...,  92,  97, 144],\n",
            "          [130, 145, 181,  ...,  85,  91, 140],\n",
            "          ...,\n",
            "          [142, 148, 133,  ...,  90,  87,  86],\n",
            "          [126, 137, 118,  ...,  85,  81,  80],\n",
            "          [106, 107, 108,  ...,  92,  88,  88]]],\n",
            "\n",
            "\n",
            "        [[[  2,   3,   2,  ...,   3,   3,   0],\n",
            "          [  3,   6,   6,  ...,   0,   2,   1],\n",
            "          [  2,   7,   2,  ...,   1,   2,   1],\n",
            "          ...,\n",
            "          [  2,   1,  15,  ...,  74,  81,  84],\n",
            "          [  3,   3,  43,  ..., 118, 109, 120],\n",
            "          [  0,   2,  31,  ...,  79,  79,  95]]],\n",
            "\n",
            "\n",
            "        [[[150, 146, 139,  ..., 116, 120, 123],\n",
            "          [152, 147, 135,  ..., 121, 122, 122],\n",
            "          [154, 140, 123,  ..., 127, 128, 127],\n",
            "          ...,\n",
            "          [ 25,  29,  27,  ..., 128, 131, 134],\n",
            "          [ 22,  27,  30,  ..., 128, 131, 133],\n",
            "          [ 26,  31,  34,  ..., 127, 130, 132]]],\n",
            "\n",
            "\n",
            "        [[[ 45,  41,  40,  ...,  25,  22,  20],\n",
            "          [ 48,  44,  42,  ...,  32,  30,  29],\n",
            "          [ 44,  43,  42,  ...,  32,  33,  34],\n",
            "          ...,\n",
            "          [135, 133, 132,  ..., 127, 144, 135],\n",
            "          [114, 122, 144,  ..., 128, 156, 152],\n",
            "          [ 98, 123, 149,  ..., 124, 154, 149]]],\n",
            "\n",
            "\n",
            "        [[[ 50,  51,  54,  ...,  27,  26,  25],\n",
            "          [ 46,  67,  69,  ...,  29,  25,  22],\n",
            "          [ 54, 100, 141,  ...,  28,  24,  21],\n",
            "          ...,\n",
            "          [253, 250, 248,  ..., 102, 109, 113],\n",
            "          [251, 235, 223,  ..., 111, 111, 116],\n",
            "          [246, 225, 210,  ..., 119, 117, 116]]]], dtype=torch.uint8)\n",
            "ipdb> quit\n"
          ],
          "name": "stdout"
        }
      ]
    },
    {
      "cell_type": "code",
      "metadata": {
        "id": "GA5WpSjpJVII",
        "colab_type": "code",
        "colab": {}
      },
      "source": [
        "dls.show_batch()"
      ],
      "execution_count": 0,
      "outputs": []
    },
    {
      "cell_type": "code",
      "metadata": {
        "id": "m0mLPQEuFu6e",
        "colab_type": "code",
        "colab": {
          "base_uri": "https://localhost:8080/",
          "height": 1000
        },
        "outputId": "bb2f7b2e-e6c0-441e-8097-03a7894478f9"
      },
      "source": [
        "%debug"
      ],
      "execution_count": 83,
      "outputs": [
        {
          "output_type": "stream",
          "text": [
            "> \u001b[0;32m/usr/local/lib/python3.6/dist-packages/fastcore/dispatch.py\u001b[0m(98)\u001b[0;36m__call__\u001b[0;34m()\u001b[0m\n",
            "\u001b[0;32m     96 \u001b[0;31m        \u001b[0;32mif\u001b[0m \u001b[0;32mnot\u001b[0m \u001b[0mf\u001b[0m\u001b[0;34m:\u001b[0m \u001b[0;32mreturn\u001b[0m \u001b[0margs\u001b[0m\u001b[0;34m[\u001b[0m\u001b[0;36m0\u001b[0m\u001b[0;34m]\u001b[0m\u001b[0;34m\u001b[0m\u001b[0;34m\u001b[0m\u001b[0m\n",
            "\u001b[0m\u001b[0;32m     97 \u001b[0;31m        \u001b[0;32mif\u001b[0m \u001b[0mself\u001b[0m\u001b[0;34m.\u001b[0m\u001b[0minst\u001b[0m \u001b[0;32mis\u001b[0m \u001b[0;32mnot\u001b[0m \u001b[0;32mNone\u001b[0m\u001b[0;34m:\u001b[0m \u001b[0mf\u001b[0m \u001b[0;34m=\u001b[0m \u001b[0mMethodType\u001b[0m\u001b[0;34m(\u001b[0m\u001b[0mf\u001b[0m\u001b[0;34m,\u001b[0m \u001b[0mself\u001b[0m\u001b[0;34m.\u001b[0m\u001b[0minst\u001b[0m\u001b[0;34m)\u001b[0m\u001b[0;34m\u001b[0m\u001b[0;34m\u001b[0m\u001b[0m\n",
            "\u001b[0m\u001b[0;32m---> 98 \u001b[0;31m        \u001b[0;32mreturn\u001b[0m \u001b[0mf\u001b[0m\u001b[0;34m(\u001b[0m\u001b[0;34m*\u001b[0m\u001b[0margs\u001b[0m\u001b[0;34m,\u001b[0m \u001b[0;34m**\u001b[0m\u001b[0mkwargs\u001b[0m\u001b[0;34m)\u001b[0m\u001b[0;34m\u001b[0m\u001b[0;34m\u001b[0m\u001b[0m\n",
            "\u001b[0m\u001b[0;32m     99 \u001b[0;31m\u001b[0;34m\u001b[0m\u001b[0m\n",
            "\u001b[0m\u001b[0;32m    100 \u001b[0;31m    \u001b[0;32mdef\u001b[0m \u001b[0m__get__\u001b[0m\u001b[0;34m(\u001b[0m\u001b[0mself\u001b[0m\u001b[0;34m,\u001b[0m \u001b[0minst\u001b[0m\u001b[0;34m,\u001b[0m \u001b[0mowner\u001b[0m\u001b[0;34m)\u001b[0m\u001b[0;34m:\u001b[0m\u001b[0;34m\u001b[0m\u001b[0;34m\u001b[0m\u001b[0m\n",
            "\u001b[0m\n",
            "ipdb> f\n",
            "functools.partial(<built-in method rfft of type object at 0x7fdab863a300>, signal_ndim=2, normalized=True, onesided=True)\n",
            "ipdb> args\n",
            "self = (object,object) -> partial\n",
            "args = (TensorImageBW([[[[  3,   3,   4,  ...,   6,   6,   6],\n",
            "          [  3,   3,   3,  ...,   6,   6,   6],\n",
            "          [  3,   3,   3,  ...,   7,   7,   7],\n",
            "          ...,\n",
            "          [ 31,  32,  34,  ..., 113, 111, 109],\n",
            "          [ 31,  33,  35,  ..., 109, 107, 107],\n",
            "          [ 30,  31,  33,  ..., 105, 104, 105]]],\n",
            "\n",
            "\n",
            "        [[[ 83,  83,  83,  ...,  67,  69,  72],\n",
            "          [ 84,  84,  84,  ...,  66,  68,  70],\n",
            "          [ 85,  85,  85,  ...,  66,  68,  70],\n",
            "          ...,\n",
            "          [ 60,  60,  66,  ...,  36,  40,  38],\n",
            "          [ 62,  62,  65,  ...,  36,  40,  38],\n",
            "          [ 66,  71,  76,  ...,  38,  38,  38]]],\n",
            "\n",
            "\n",
            "        [[[169, 168, 169,  ..., 205, 206, 207],\n",
            "          [174, 169, 168,  ..., 205, 206, 207],\n",
            "          [179, 179, 182,  ..., 204, 205, 207],\n",
            "          ...,\n",
            "          [128, 125, 123,  ..., 169, 173, 178],\n",
            "          [125, 125, 125,  ..., 172, 176, 181],\n",
            "          [120, 124, 126,  ..., 173, 177, 182]]],\n",
            "\n",
            "\n",
            "        ...,\n",
            "\n",
            "\n",
            "        [[[187, 187, 187,  ..., 205, 205, 205],\n",
            "          [187, 187, 187,  ..., 205, 205, 205],\n",
            "          [187, 187, 187,  ..., 205, 205, 205],\n",
            "          ...,\n",
            "          [172, 172, 172,  ..., 155, 156, 157],\n",
            "          [167, 167, 168,  ..., 153, 155, 155],\n",
            "          [146, 145, 147,  ..., 181, 193, 196]]],\n",
            "\n",
            "\n",
            "        [[[200, 199, 167,  ..., 169, 115, 105],\n",
            "          [170, 155, 181,  ..., 159, 150, 133],\n",
            "          [191, 144, 141,  ..., 152, 146, 149],\n",
            "          ...,\n",
            "          [110,  97, 114,  ...,  88,  88,  86],\n",
            "          [101, 101, 113,  ...,  76,  91,  88],\n",
            "          [ 79,  93,  87,  ...,  78,  79,  77]]],\n",
            "\n",
            "\n",
            "        [[[149, 161, 178,  ..., 103, 107, 109],\n",
            "          [140, 142, 169,  ..., 104, 106, 108],\n",
            "          [168, 158, 178,  ..., 109, 109, 110],\n",
            "          ...,\n",
            "          [184, 168, 161,  ..., 213, 207, 191],\n",
            "          [167, 163, 164,  ..., 220, 214, 201],\n",
            "          [158, 161, 166,  ..., 216, 209, 201]]]], dtype=torch.uint8),)\n",
            "kwargs = {}\n",
            "ipdb> b = IntToFloatTensor(args)\n",
            "*** The specified object '= IntToFloatTensor(args)' is not a function or was not found along sys.path.\n",
            "ipdb> quit\n"
          ],
          "name": "stdout"
        }
      ]
    },
    {
      "cell_type": "code",
      "metadata": {
        "id": "vaBZ3e18-lFN",
        "colab_type": "code",
        "colab": {
          "base_uri": "https://localhost:8080/",
          "height": 267
        },
        "outputId": "c7616620-95a8-429b-afb9-862d60561602"
      },
      "source": [
        "dsets.show(dsets[0])"
      ],
      "execution_count": 60,
      "outputs": [
        {
          "output_type": "stream",
          "text": [
            "English springer\n"
          ],
          "name": "stdout"
        },
        {
          "output_type": "display_data",
          "data": {
            "image/png": "[encoded data removed]",
            "text/plain": [
              "<Figure size 360x360 with 1 Axes>"
            ]
          },
          "metadata": {
            "tags": [],
            "needs_background": "light"
          }
        }
      ]
    },
    {
      "cell_type": "markdown",
      "metadata": {
        "id": "H7dxLk7-DZA5",
        "colab_type": "text"
      },
      "source": [
        "# Dataloaders\n",
        "\n",
        "- item-level tfms: Resize, ToTensor (so can be batched)\n",
        "- batch-level tfms: Normalize, data aug"
      ]
    },
    {
      "cell_type": "code",
      "metadata": {
        "id": "gKlvF11nYhBq",
        "colab_type": "code",
        "colab": {}
      },
      "source": [
        "item_tfms = [ToTensor, RandomResizedCrop(128, min_scale=0.35)]\n",
        "batch_tfms = [IntToFloatTensor, TensorTfms.real2k, Normalize()]"
      ],
      "execution_count": 0,
      "outputs": []
    },
    {
      "cell_type": "code",
      "metadata": {
        "id": "HgW6OffBXnpo",
        "colab_type": "code",
        "colab": {}
      },
      "source": [
        "# given fn2attr dict, indexes into array of kspace slices\n",
        "class KSliceTfm(Transform):\n",
        "  def __init__(self, fn2attr_items, is_valid=False):\n",
        "    self.fn2attr_items, self.is_valid = fn2attr_items, is_valid\n",
        "    self.n_slices = [attr[\"n_slices\"] for (_, attr) in self.fn2attr_items]\n",
        "    self.cumsum = np.cumsum(self.n_slices)\n",
        "    self.total_n_slices = self.cumsum[-1]\n",
        "\n",
        "  def encodes(self, i) -> KS:\n",
        "    fn2attr_idx  = np.searchsorted(self.cumsum, i)\n",
        "    slice_idx = i - self.cumsum[fn2attr_idx]\n",
        "\n",
        "    fname = self.fn2attr_items[fn2attr_idx][0]\n",
        "\n",
        "    with h5py.File(fname, 'r') as data:\n",
        "      kslice = data['kspace'][slice_idx]\n",
        "\n",
        "    return KS(kslice)\n"
      ],
      "execution_count": 0,
      "outputs": []
    },
    {
      "cell_type": "markdown",
      "metadata": {
        "id": "wlqZkiIHKbmN",
        "colab_type": "text"
      },
      "source": [
        "## Convert imagenet to kspace in polar coord"
      ]
    },
    {
      "cell_type": "code",
      "metadata": {
        "id": "bA6xGGoLJwDG",
        "colab_type": "code",
        "colab": {}
      },
      "source": [
        "def get_data(url, presize, resize):\n",
        "  "
      ],
      "execution_count": 0,
      "outputs": []
    },
    {
      "cell_type": "markdown",
      "metadata": {
        "id": "w9-DLhvpE_LI",
        "colab_type": "text"
      },
      "source": [
        "# Old"
      ]
    },
    {
      "cell_type": "code",
      "metadata": {
        "id": "yVrTbNItFAGa",
        "colab_type": "code",
        "colab": {}
      },
      "source": [
        ""
      ],
      "execution_count": 0,
      "outputs": []
    },
    {
      "cell_type": "code",
      "metadata": {
        "colab_type": "code",
        "id": "kikOsAttFALk",
        "colab": {}
      },
      "source": [
        "# k tensor that knows how to show itself\n",
        "class K():\n",
        "  def __init__(self, k, orig_shape):\n",
        "    self.k, self.orig_shape = k, orig_shape\n",
        "\n",
        "  def show(self, ctx=None, **kwargs): \n",
        "    rev_img = apply(self.k, TensorTfms.k2real(self.orig_shape))\n",
        "    show_image(rev_img, cmap = \"gray\", title = \"IRFFT\", ctx=ctx, **kwargs)\n",
        "\n",
        "  def to_tensor(self): return self.k"
      ],
      "execution_count": 0,
      "outputs": []
    },
    {
      "cell_type": "code",
      "metadata": {
        "colab_type": "code",
        "id": "XIwa9bXgFALn",
        "colab": {}
      },
      "source": [
        "# convert original img arr to k space\n",
        "class KTfm(Transform):\n",
        "  \n",
        "  # store orig shape so it can be decoded correctly (for showing purposes)\n",
        "  def encodes(self, arr)->Tensor:\n",
        "    return K(apply(arr, TensorTfms.real2k), arr.shape)"
      ],
      "execution_count": 0,
      "outputs": []
    }
  ]
}