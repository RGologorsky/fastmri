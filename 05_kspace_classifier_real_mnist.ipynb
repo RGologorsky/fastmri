{
  "nbformat": 4,
  "nbformat_minor": 0,
  "metadata": {
    "colab": {
      "name": "05_kspace_classifier_real.ipynb",
      "provenance": [],
      "collapsed_sections": [],
      "toc_visible": true,
      "mount_file_id": "1oBdVFkeatEtQhyTgud3c-99UXbX8JOGm",
      "authorship_tag": "ABX9TyPnnHbACthi8Z+UdMt0pRxE",
      "include_colab_link": true
    },
    "kernelspec": {
      "name": "python3",
      "display_name": "Python 3"
    },
    "accelerator": "GPU"
  },
  "cells": [
    {
      "cell_type": "markdown",
      "metadata": {
        "id": "view-in-github",
        "colab_type": "text"
      },
      "source": [
        "<a href=\"https://colab.research.google.com/github/RGologorsky/fastmri/blob/master/05_kspace_classifier_real_mnist.ipynb\" target=\"_parent\"><img src=\"https://colab.research.google.com/assets/colab-badge.svg\" alt=\"Open In Colab\"/></a>"
      ]
    },
    {
      "cell_type": "markdown",
      "metadata": {
        "id": "GhcmjtAuMFPH",
        "colab_type": "text"
      },
      "source": [
        "## Classifying real images in kspace\n",
        "\n",
        "- Can a CNN learn to classify given kspace as input?\n",
        "- Can we apply audio (time freq) techniques to kspace (spacial freq)?\n",
        "  - MELGAN, MEL Spectogram, MFCC (http://practicalcryptography.com/miscellaneous/machine-learning/guide-mel-frequency-cepstral-coefficients-mfccs/)\n",
        "  - Audio data augs\n",
        "\n",
        "- Do max pooling layers help?\n",
        "\n",
        "MRI scans have correct orientation; max pooling loses spacial info \"ignores the relation between the part and the whole\"\n",
        "-- maybe try CNNs without max pooling?"
      ]
    },
    {
      "cell_type": "markdown",
      "metadata": {
        "id": "iF9tyiFmIQ3u",
        "colab_type": "text"
      },
      "source": [
        "![Max pooling, same features](https://miro.medium.com/max/1400/1*wsf4tsOH77T1lpylPUIhbA.png)"
      ]
    },
    {
      "cell_type": "markdown",
      "metadata": {
        "id": "bpDZhA5-PQ2j",
        "colab_type": "text"
      },
      "source": [
        "## Setup"
      ]
    },
    {
      "cell_type": "code",
      "metadata": {
        "colab_type": "code",
        "outputId": "d91d4374-2ef2-4194-dd17-04410523037b",
        "id": "zSm9JxLKHAIf",
        "colab": {
          "base_uri": "https://localhost:8080/",
          "height": 136
        }
      },
      "source": [
        "# clone repo\n",
        "!git clone https://github.com/RGologorsky/fastmri.git\n",
        "\n",
        "# pip install/import\n",
        "%run \"$PROJ/common_constants_env.ipynb\" # pip install fastai, fastmri, etc\n",
        "%run \"$PROJ/common_archs.ipynb\"         # get simple cnn (stride 2 all the way)\n",
        "%run \"$PROJ/01_kspace_tfms.ipynb\"       # get the kspace tfms"
      ],
      "execution_count": 0,
      "outputs": [
        {
          "output_type": "stream",
          "text": [
            "Drive already mounted at /content/drive; to attempt to forcibly remount, call drive.mount(\"/content/drive\", force_remount=True).\n",
            "pip install fastai2\n",
            "git clone fastMRI\n",
            "pip install ISMRMRD\n",
            "pip install fasMRI req\n",
            "sys append /content/fastMRI\n",
            "imports\n"
          ],
          "name": "stdout"
        }
      ]
    },
    {
      "cell_type": "markdown",
      "metadata": {
        "id": "QdEkdXEdRlrj",
        "colab_type": "text"
      },
      "source": [
        "# Save/Export\n",
        "\n",
        "Set export path (save model arch + weights)\n",
        "\n",
        "1. Save in local github folder\n",
        "2. Save in gdrive folder\n",
        "\n",
        "Remember to PUSH after saving!"
      ]
    },
    {
      "cell_type": "code",
      "metadata": {
        "id": "_CNZ3fDzR29i",
        "colab_type": "code",
        "outputId": "31637bf3-3828-47e3-e2cb-94561d76864c",
        "colab": {
          "base_uri": "https://localhost:8080/",
          "height": 34
        }
      },
      "source": [
        "save_local = False\n",
        "PROJ       = \"fastmri\"\n",
        "\n",
        "from google.colab import drive # import drive from google colab\n",
        "from pathlib import Path\n",
        "\n",
        "if save_local: EXPORT_DIR = f\"{PROJ}/exports\"\n",
        "else: \n",
        "  # Mount Google Drive \n",
        "  ROOT = \"/content/drive\"     # default location for the drive\n",
        "  drive.mount(ROOT)           # mount google drive at /content/drive\n",
        "\n",
        "  # set folder path in gdrive\n",
        "  EXPORT_DIR = Path(ROOT)/\"My Drive/fastai_proj\"/PROJ/\"exports\"\n",
        "  EXPORT_DIR.mkdir(parents=True, exist_ok=True)\n",
        "\n",
        "EXPORT_DIR"
      ],
      "execution_count": 0,
      "outputs": [
        {
          "output_type": "stream",
          "text": [
            "Drive already mounted at /content/drive; to attempt to forcibly remount, call drive.mount(\"/content/drive\", force_remount=True).\n"
          ],
          "name": "stdout"
        }
      ]
    },
    {
      "cell_type": "markdown",
      "metadata": {
        "id": "pH04ar1xoPBf",
        "colab_type": "text"
      },
      "source": [
        "## Data\n",
        "\n",
        "MNIST instead of Imagenet because MNIST, like MRI scans, have correct orientation."
      ]
    },
    {
      "cell_type": "code",
      "metadata": {
        "id": "QG2l6Mm0Ijvi",
        "colab_type": "code",
        "outputId": "a35229cc-50f1-4218-f026-66ada8030eba",
        "colab": {
          "base_uri": "https://localhost:8080/",
          "height": 17
        }
      },
      "source": [
        "url = URLs.MNIST # sizes = 28x28\n",
        "\n",
        "# download & unpack data in url\n",
        "path = untar_data(url)\n",
        "fnames = get_image_files(path)"
      ],
      "execution_count": 0,
      "outputs": [
        {
          "output_type": "display_data",
          "data": {
            "text/html": [
              ""
            ],
            "text/plain": [
              "<IPython.core.display.HTML object>"
            ]
          },
          "metadata": {
            "tags": []
          }
        }
      ]
    },
    {
      "cell_type": "markdown",
      "metadata": {
        "id": "ULYJHbVz3Ayj",
        "colab_type": "text"
      },
      "source": [
        "### Test tfms on data"
      ]
    },
    {
      "cell_type": "code",
      "metadata": {
        "id": "QgZaVQmDzp2c",
        "colab_type": "code",
        "outputId": "1933549b-d7c9-450c-b1a6-5779c731a78e",
        "colab": {
          "base_uri": "https://localhost:8080/",
          "height": 279
        }
      },
      "source": [
        "# select random slice of fnames\n",
        "rand_idx = np.random.randint(0, len(fnames)-10)\n",
        "bslice = slice(rand_idx,rand_idx+10)\n",
        "print(f\"Selected fnames slice from {rand_idx} to {rand_idx + 10}\")\n",
        "\n",
        "# get batch of images/labels\n",
        "xb = [PILImageBW.create(fn) for fn in fnames[bslice]]\n",
        "yb = [parent_label(fn) for fn in fnames[bslice]]\n",
        "\n",
        "# im2tensor\n",
        "t_xb = torch.stack(tuple(apply(x, TensorTfms.im2arr) for x in xb), dim=0)\n",
        "print(f\"Batch of images: tensor of shape {t_xb.shape}\")\n",
        "\n",
        "# im2kspace\n",
        "k_xb = apply(t_xb, TensorTfms.real2k(onesided=False))\n",
        "print(f\"Batch in kspace: tensor of shape {k_xb.shape}\")\n",
        "\n",
        "# decodes\n",
        "rev_xb = apply(k_xb, TensorTfms.k2real(onesided=False))\n",
        "print(f\"Batch kspace2img: tensor of shape {rev_xb.shape}\")\n",
        "\n",
        "# kspace abs\n",
        "k_abs_xb = apply(k_xb, TensorTfms.log_abs, pre=TensorTfms.t_abs)\n",
        "print(f\"Batch log abs kspace: tensor of shape {k_abs_xb.shape}\")\n",
        "\n",
        "# plot an item in xb\n",
        "i = 1\n",
        "plot([xb[i], k_abs_xb[i], rev_xb[i]], [f\"Orig Img\", f\"K ({yb[i]})\", f\"Reverse Img\"])"
      ],
      "execution_count": 0,
      "outputs": [
        {
          "output_type": "stream",
          "text": [
            "Selected fnames slice from 47541 to 47551\n",
            "Batch of images: tensor of shape torch.Size([10, 28, 28])\n",
            "Batch in kspace: tensor of shape torch.Size([10, 28, 28, 2])\n",
            "Batch kspace2img: tensor of shape torch.Size([10, 28, 28])\n",
            "Batch log abs kspace: tensor of shape torch.Size([10, 28, 28])\n"
          ],
          "name": "stdout"
        },
        {
          "output_type": "display_data",
          "data": {
            "image/png": "[encoded data removed]",
            "text/plain": [
              "<Figure size 432x432 with 3 Axes>"
            ]
          },
          "metadata": {
            "tags": [],
            "needs_background": "light"
          }
        }
      ]
    },
    {
      "cell_type": "markdown",
      "metadata": {
        "id": "KjPuthin3rCp",
        "colab_type": "text"
      },
      "source": [
        "# Dataset\n",
        "\n",
        "Audio Data augs? Normalize?\n"
      ]
    },
    {
      "cell_type": "code",
      "metadata": {
        "id": "Sh3icqYRwRik",
        "colab_type": "code",
        "colab": {}
      },
      "source": [
        "raw_items = fnames\n",
        "\n",
        "x_tfms = [PILImageBW.create]\n",
        "y_tfms = [parent_label, Categorize]\n",
        "\n",
        "splitter  = GrandparentSplitter(train_name = \"training\", valid_name = \"testing\")\n",
        "splits = splitter(raw_items)\n",
        "\n",
        "#splitter = GrandparentSplitter(valid_name=\"val\")\n",
        "#splittter = RandomSplitter(valid_pct=0.2, seed=42)\n",
        "\n",
        "dsets = Datasets(raw_items, tfms = [x_tfms, y_tfms], splits=splits)"
      ],
      "execution_count": 0,
      "outputs": []
    },
    {
      "cell_type": "code",
      "metadata": {
        "id": "0GAnNKHXPJsN",
        "colab_type": "code",
        "outputId": "e3981170-ff3b-43c5-9c0d-0cb7f6c65113",
        "colab": {
          "base_uri": "https://localhost:8080/",
          "height": 135
        }
      },
      "source": [
        "dsets.vocab, dsets.show(dsets[50000])"
      ],
      "execution_count": 0,
      "outputs": [
        {
          "output_type": "execute_result",
          "data": {
            "text/plain": [
              "((#10) ['0','1','2','3','4','5','6','7','8','9'],\n",
              " <matplotlib.axes._subplots.AxesSubplot at 0x7f7fb1d7e978>)"
            ]
          },
          "metadata": {
            "tags": []
          },
          "execution_count": 6
        },
        {
          "output_type": "display_data",
          "data": {
            "image/png": "[encoded data removed]",
            "text/plain": [
              "<Figure size 72x72 with 1 Axes>"
            ]
          },
          "metadata": {
            "tags": [],
            "needs_background": "light"
          }
        }
      ]
    },
    {
      "cell_type": "markdown",
      "metadata": {
        "id": "vgb-zIqJ7TTU",
        "colab_type": "text"
      },
      "source": [
        "# Dataloaders"
      ]
    },
    {
      "cell_type": "markdown",
      "metadata": {
        "id": "vUVmT8XbLBiY",
        "colab_type": "text"
      },
      "source": [
        "Define parameters"
      ]
    },
    {
      "cell_type": "code",
      "metadata": {
        "id": "t6XOO8FS8UJE",
        "colab_type": "code",
        "colab": {}
      },
      "source": [
        "bs = 512\n",
        "num_workers = 1"
      ],
      "execution_count": 0,
      "outputs": []
    },
    {
      "cell_type": "markdown",
      "metadata": {
        "colab_type": "text",
        "id": "SqG_D1tg_OoM"
      },
      "source": [
        "Define dataloaders (learning in image space)"
      ]
    },
    {
      "cell_type": "code",
      "metadata": {
        "colab_type": "code",
        "id": "JgAQ7xe5_OoN",
        "colab": {}
      },
      "source": [
        "# define size of ims after item/batching (to use in defining cnn)\n",
        "item_sz, batch_sz = 28,28\n",
        "\n",
        "item_tfms  = [ToTensor]\n",
        "batch_tfms = [IntToFloatTensor] # Normalize? SaveShape\n",
        "\n",
        "im_dls = dsets.dataloaders(\n",
        "          after_item  = item_tfms, \n",
        "          after_batch = batch_tfms, \n",
        "          bs=bs, \n",
        "          num_workers = num_workers).cuda()"
      ],
      "execution_count": 0,
      "outputs": []
    },
    {
      "cell_type": "code",
      "metadata": {
        "id": "vuLMZFTSav0W",
        "colab_type": "code",
        "outputId": "8aa27b94-a33e-4026-aa47-b84aa8d47245",
        "colab": {
          "base_uri": "https://localhost:8080/",
          "height": 536
        }
      },
      "source": [
        "# viz\n",
        "im_dls.show_batch()"
      ],
      "execution_count": 0,
      "outputs": [
        {
          "output_type": "display_data",
          "data": {
            "image/png": "[encoded data removed]",
            "text/plain": [
              "<Figure size 648x648 with 9 Axes>"
            ]
          },
          "metadata": {
            "tags": [],
            "needs_background": "light"
          }
        }
      ]
    },
    {
      "cell_type": "markdown",
      "metadata": {
        "id": "El24dACALDot",
        "colab_type": "text"
      },
      "source": [
        "Define dataloaders (learning in complex kspace)"
      ]
    },
    {
      "cell_type": "code",
      "metadata": {
        "id": "gMqMJDAoCMMf",
        "colab_type": "code",
        "colab": {}
      },
      "source": [
        "# define size of ims after item/batching (to use in defining cnn)\n",
        "item_sz, batch_sz = 28,28\n",
        "\n",
        "k_item_tfms  = [ToTensor]\n",
        "k_batch_tfms = [IntToFloatTensor, BatchReal2ComplexK, Complex2Channel] # Normalize? SaveShape\n",
        "\n",
        "k_dls = dsets.dataloaders(\n",
        "          after_item  = k_item_tfms, \n",
        "          after_batch = k_batch_tfms, \n",
        "          bs=bs, \n",
        "          num_workers = num_workers).cuda()"
      ],
      "execution_count": 0,
      "outputs": []
    },
    {
      "cell_type": "code",
      "metadata": {
        "id": "q20y4U86PxCf",
        "colab_type": "code",
        "outputId": "5a82d2e8-de09-4f5e-f1cc-6f0c2a04af35",
        "colab": {
          "base_uri": "https://localhost:8080/",
          "height": 907
        }
      },
      "source": [
        "# viz\n",
        "\n",
        "# get batch\n",
        "k_xb, yb = k_dls.one_batch()\n",
        "k_xb, yb = to_cpu(k_xb), to_cpu(yb)\n",
        "\n",
        "# decodes\n",
        "rev_k_xb = apply(Complex2Channel().decodes(k_xb), TensorTfms.batch_k2real(onesided=False))\n",
        "print(f\"Batch kspace2img: tensor of shape {rev_k_xb.shape}\")\n",
        "\n",
        "# kspace abs\n",
        "abs_k_xb = apply(Complex2Channel().decodes(k_xb), TensorTfms.log_abs, pre=TensorTfms.t_abs)\n",
        "print(f\"Batch log abs kspace: tensor of shape {abs_k_xb.shape}\")\n",
        "\n",
        "# plot item in batch\n",
        "\n",
        "# select slice\n",
        "nb = 5\n",
        "bslice = slice(0,nb)\n",
        "\n",
        "# set titles/order of images to plot\n",
        "titles = [x for i in range(nb) for x in [f\"{yb[i]}\",  f\"{yb[i]}\"]]\n",
        "imgs   = [x for i in range(nb) for x in [abs_k_xb[i], rev_k_xb[i]]]\n",
        "\n",
        "# plot\n",
        "plot(imgs, titles, nrows=nb, ncols=2, figsize=(12,12))"
      ],
      "execution_count": 0,
      "outputs": [
        {
          "output_type": "stream",
          "text": [
            "Batch kspace2img: tensor of shape torch.Size([512, 28, 28])\n",
            "Batch log abs kspace: tensor of shape torch.Size([512, 28, 28])\n"
          ],
          "name": "stdout"
        },
        {
          "output_type": "display_data",
          "data": {
            "image/png": "[encoded data removed]",
            "text/plain": [
              "<Figure size 864x864 with 10 Axes>"
            ]
          },
          "metadata": {
            "tags": [],
            "needs_background": "light"
          }
        }
      ]
    },
    {
      "cell_type": "markdown",
      "metadata": {
        "colab_type": "text",
        "id": "nwdXhYPewy5H"
      },
      "source": [
        "Define dataloaders (learning in log amp kspace)"
      ]
    },
    {
      "cell_type": "code",
      "metadata": {
        "id": "mbVZcCyK7j8_",
        "colab_type": "code",
        "colab": {}
      },
      "source": [
        "# define size of ims after item/batching (to use in defining cnn)\n",
        "item_sz, batch_sz = 28,28\n",
        "\n",
        "k_abs_item_tfms  = [ToTensor]\n",
        "k_abs_batch_tfms = [IntToFloatTensor, BatchReal2ComplexK, ComplexK2LogAbs] # Normalize? SaveShape\n",
        "\n",
        "k_abs_dls = dsets.dataloaders(\n",
        "          after_item  = k_abs_item_tfms, \n",
        "          after_batch = k_abs_batch_tfms, \n",
        "          bs=bs, \n",
        "          num_workers = num_workers).cuda()"
      ],
      "execution_count": 0,
      "outputs": []
    },
    {
      "cell_type": "markdown",
      "metadata": {
        "id": "2CHYjf2NTmAu",
        "colab_type": "text"
      },
      "source": [
        "## print in a row"
      ]
    },
    {
      "cell_type": "code",
      "metadata": {
        "id": "dZHNFcdBqpSY",
        "colab_type": "code",
        "outputId": "2c990276-2204-4e27-da57-0c1b63bfc506",
        "colab": {
          "base_uri": "https://localhost:8080/",
          "height": 1000
        }
      },
      "source": [
        "# set number of examples per row\n",
        "ncols, nrows = 5, 10\n",
        "\n",
        "# get random batch (512 bs)\n",
        "kxb, yb = k_dls.one_batch()\n",
        "kxb, yb = to_cpu(kxb), to_cpu(yb)\n",
        "\n",
        "# grab 5 examples of each digit/category\n",
        "kxbd = torch.cat(tuple(kxb[yb==digit][:ncols] for digit in range(10)), dim = 0)\n",
        "ybd  = torch.cat(tuple(yb[yb==digit][:ncols] for digit in range(10)), dim = 0)\n",
        "print(f\"Batch of 10 digits in kspace ({ncols} examples of each digit):\\n tensor of shape {kxbd.shape}\")\n",
        "\n",
        "# decodes\n",
        "rev_kxbd = apply(Complex2Channel().decodes(kxbd), TensorTfms.batch_k2real(onesided=False))\n",
        "print(f\"Batch img (kspace to img): tensor of shape {rev_kxbd.shape}\")\n",
        "\n",
        "# kspace abs\n",
        "abs_kxbd = apply(Complex2Channel().decodes(kxbd), TensorTfms.log_abs, pre=TensorTfms.t_abs)\n",
        "print(f\"Batch log abs kspace: tensor of shape {abs_kxbd.shape}\")\n",
        "\n",
        "# plot item in batch\n",
        "\n",
        "# set titles/order of images to plot\n",
        "titles = [f\"{ybd[i]}\" for i in range(ncols*nrows)]\n",
        "imgs   = [abs_kxbd[i] for i in range(ncols*nrows)]\n",
        "\n",
        "# plot\n",
        "plot(imgs, titles, nrows=nrows, ncols=ncols, figsize=(10,20))"
      ],
      "execution_count": 0,
      "outputs": [
        {
          "output_type": "stream",
          "text": [
            "Batch of 10 digits in kspace (5 examples of each digit):\n",
            " tensor of shape torch.Size([50, 2, 28, 28])\n",
            "Batch img (kspace to img): tensor of shape torch.Size([50, 28, 28])\n",
            "Batch log abs kspace: tensor of shape torch.Size([50, 28, 28])\n"
          ],
          "name": "stdout"
        },
        {
          "output_type": "display_data",
          "data": {
            "image/png": "[encoded data removed]",
            "text/plain": [
              "<Figure size 720x1440 with 50 Axes>"
            ]
          },
          "metadata": {
            "tags": [],
            "needs_background": "light"
          }
        }
      ]
    },
    {
      "cell_type": "code",
      "metadata": {
        "id": "makmPzJCWT6J",
        "colab_type": "code",
        "outputId": "e41f00ae-b259-49a0-ef06-37f37ba1af3a",
        "colab": {
          "base_uri": "https://localhost:8080/",
          "height": 941
        }
      },
      "source": [
        "# screen for a particular digit\n",
        "\n",
        "# get random batch (512 bs)\n",
        "kxb, yb = k_dls.one_batch()\n",
        "kxb, yb = to_cpu(kxb), to_cpu(yb)\n",
        "\n",
        "# screen for digit\n",
        "digit = 9\n",
        "\n",
        "# x's,y's corresponding to digit \n",
        "kxbd = kxb[yb==digit] if digit != -1 else kxb\n",
        "ybd  =  yb[yb==digit] if digit != -1 else kxb\n",
        "print(f\"Digit {digit} batch: {kxbd.shape}, {ybd.shape}\")\n",
        "\n",
        "# see idxs corresponding to digits\n",
        "idxs = np.array(range(0, bs))[yb==digit]\n",
        "print(f\"Indices of {digit} in batch: {idxs[:10]}\")\n",
        "\n",
        "# decodes\n",
        "rev_kxbd = apply(Complex2Channel().decodes(kxbd), TensorTfms.batch_k2real(onesided=False))\n",
        "print(f\"Batch kspace2img: tensor of shape {rev_kxbd.shape}\")\n",
        "\n",
        "# kspace abs\n",
        "abs_kxbd = apply(Complex2Channel().decodes(kxbd), TensorTfms.log_abs, pre=TensorTfms.t_abs)\n",
        "print(f\"Batch log abs kspace: tensor of shape {abs_kxbd.shape}\")\n",
        "\n",
        "# plot item in batch\n",
        "\n",
        "# select slice\n",
        "nb = 5\n",
        "bslice = slice(0,nb)\n",
        "\n",
        "# set titles/order of images to plot\n",
        "titles = [x for i in range(nb) for x in [f\"{ybd[i]}\",  f\"{ybd[i]}\"]]\n",
        "imgs   = [x for i in range(nb) for x in [abs_kxbd[i], rev_kxbd[i]]]\n",
        "\n",
        "# plot\n",
        "plot(imgs, titles, nrows=nb, ncols=2, figsize=(6,12))"
      ],
      "execution_count": 0,
      "outputs": [
        {
          "output_type": "stream",
          "text": [
            "Digit 9 batch: torch.Size([43, 2, 28, 28]), torch.Size([43])\n",
            "Indices of 9 in batch: [ 11  15  23  40  43  62  79  95 109 120]\n",
            "Batch kspace2img: tensor of shape torch.Size([43, 28, 28])\n",
            "Batch log abs kspace: tensor of shape torch.Size([43, 28, 28])\n"
          ],
          "name": "stdout"
        },
        {
          "output_type": "display_data",
          "data": {
            "image/png": "[encoded data removed]",
            "text/plain": [
              "<Figure size 432x864 with 10 Axes>"
            ]
          },
          "metadata": {
            "tags": [],
            "needs_background": "light"
          }
        }
      ]
    },
    {
      "cell_type": "markdown",
      "metadata": {
        "id": "391uNElj3v42",
        "colab_type": "text"
      },
      "source": [
        "## Mean & STD \n",
        "\n",
        "(sparse k space though)"
      ]
    },
    {
      "cell_type": "code",
      "metadata": {
        "id": "Zu0fEat3lmdv",
        "colab_type": "code",
        "outputId": "10a4c33a-40a0-48bf-a4c6-645469514c38",
        "colab": {
          "base_uri": "https://localhost:8080/",
          "height": 34
        }
      },
      "source": [
        "xb,yb = k_dls.one_batch()\n",
        "xb,yb = to_cpu(xb), to_cpu(yb)\n",
        "xb.shape, yb.shape"
      ],
      "execution_count": 0,
      "outputs": [
        {
          "output_type": "execute_result",
          "data": {
            "text/plain": [
              "(torch.Size([512, 2, 28, 28]), torch.Size([512]))"
            ]
          },
          "metadata": {
            "tags": []
          },
          "execution_count": 16
        }
      ]
    },
    {
      "cell_type": "markdown",
      "metadata": {
        "id": "1OoGSrgTLjiY",
        "colab_type": "text"
      },
      "source": [
        "Most of kspace has 0 amplitude/phase (sparse) -- not normally distributed"
      ]
    },
    {
      "cell_type": "code",
      "metadata": {
        "id": "9jBexemFXZtV",
        "colab_type": "code",
        "outputId": "ad649bc9-1bd9-4bc2-fc98-5d76a3d912d6",
        "colab": {
          "base_uri": "https://localhost:8080/",
          "height": 34
        }
      },
      "source": [
        "xb.mean(dim=[0,2,3]),xb.std(dim=[0,2,3])"
      ],
      "execution_count": 0,
      "outputs": [
        {
          "output_type": "execute_result",
          "data": {
            "text/plain": [
              "(TensorImageBW([2.4222e-12, 3.4227e-11]), TensorImageBW([0.1661, 0.2837]))"
            ]
          },
          "metadata": {
            "tags": []
          },
          "execution_count": 17
        }
      ]
    },
    {
      "cell_type": "markdown",
      "metadata": {
        "id": "wlqZkiIHKbmN",
        "colab_type": "text"
      },
      "source": [
        "## kspace2polar\n",
        "\n",
        "perhaps easier for linear conv to pick up on important patterns"
      ]
    },
    {
      "cell_type": "markdown",
      "metadata": {
        "id": "IU_9lb6DgRHZ",
        "colab_type": "text"
      },
      "source": [
        "From SO: OpenCV 3.4 can do this now pretty easily with warpPolar()"
      ]
    },
    {
      "cell_type": "code",
      "metadata": {
        "id": "bA6xGGoLJwDG",
        "colab_type": "code",
        "colab": {}
      },
      "source": [
        "def convert_to_polar():\n",
        "  pass"
      ],
      "execution_count": 0,
      "outputs": []
    },
    {
      "cell_type": "markdown",
      "metadata": {
        "id": "Vt8ttv3IHO-Q",
        "colab_type": "text"
      },
      "source": [
        "# Architecture"
      ]
    },
    {
      "cell_type": "markdown",
      "metadata": {
        "id": "USRwRRhwgX0A",
        "colab_type": "text"
      },
      "source": [
        "Arch -- wave2letter Audio spectogram arch"
      ]
    },
    {
      "cell_type": "markdown",
      "metadata": {
        "id": "ZiErgtZiMLIe",
        "colab_type": "text"
      },
      "source": [
        "CNN - Simple, no max pooling. Conv consists of 2dconv + batchnorm + activation ReLU."
      ]
    },
    {
      "cell_type": "markdown",
      "metadata": {
        "colab_type": "text",
        "id": "JRhndM1RdmAU"
      },
      "source": [
        "CNN - Simple, no max pooling, stride 2 conv layers until 1x1, then flatten. \n",
        "\n",
        "Conv layer consists of 2dconv + batchnorm + activation ReLU."
      ]
    },
    {
      "cell_type": "code",
      "metadata": {
        "colab_type": "code",
        "id": "kptH4pqZdmAU",
        "colab": {}
      },
      "source": [
        "# greyscale-1 input channel, complex kspace-2 input channels\n",
        "\n",
        "# cnns\n",
        "simple_cnn   = get_simple_cnn(c_in=1, n_out=10, sz=batch_sz) \n",
        "k_simple_cnn = get_simple_cnn(c_in=2, n_out=10, sz=batch_sz)\n",
        "\n",
        "# resnets\n",
        "base_resnet = xresnet34\n",
        "k_resnet   = base_resnet(c_in=2, n_out=10)\n",
        "resnet     = base_resnet(c_in=1, n_out=10)"
      ],
      "execution_count": 0,
      "outputs": []
    },
    {
      "cell_type": "markdown",
      "metadata": {
        "id": "uXBXyKegET34",
        "colab_type": "text"
      },
      "source": [
        "Test arch works"
      ]
    },
    {
      "cell_type": "code",
      "metadata": {
        "id": "GRZaigKpMgqV",
        "colab_type": "code",
        "outputId": "11b2f51a-5049-4790-8008-71a4a7592b9f",
        "colab": {
          "base_uri": "https://localhost:8080/",
          "height": 68
        }
      },
      "source": [
        "# all arch/dls\n",
        "test_archs = [simple_cnn, resnet, k_simple_cnn, k_resnet]\n",
        "test_dls   = [im_dls, k_dls, k_abs_dls]\n",
        "\n",
        "# set arch/dl pair to test\n",
        "arch_idx,dl_idx = 0,2\n",
        "\n",
        "# test learning with given arch on given dls\n",
        "arch,dls = test_archs[arch_idx].cpu(), test_dls[dl_idx]\n",
        "xb,yb = dls.one_batch()\n",
        "xb,yb = to_cpu(xb), to_cpu(yb)\n",
        "output = arch(xb)\n",
        "print(f\"input:  {xb.shape}\\noutput: {output.shape},\\npreds: {output[0]}\")"
      ],
      "execution_count": 0,
      "outputs": [
        {
          "output_type": "stream",
          "text": [
            "input/output shape: torch.Size([512, 1, 28, 28]), torch.Size([512, 10]),\n",
            " output: tensor([ 1.2026, -0.9271,  0.3427, -0.8822, -1.0344,  0.3375,  2.0874, -0.3160,\n",
            "         1.2642, -0.6169], grad_fn=<SelectBackward>)\n"
          ],
          "name": "stdout"
        }
      ]
    },
    {
      "cell_type": "markdown",
      "metadata": {
        "id": "yKpF680439aT",
        "colab_type": "text"
      },
      "source": [
        "# Learn"
      ]
    },
    {
      "cell_type": "code",
      "metadata": {
        "id": "y7XPWogs34TD",
        "colab_type": "code",
        "colab": {}
      },
      "source": [
        "from fastai2.callback.hook import *\n",
        "\n",
        "# set callbacks\n",
        "cbs = ActivationStats(with_hist=True)\n",
        "\n",
        "# get learner w/given arch + dls\n",
        "def get_learner(dls, arch):\n",
        "  return Learner(dls, arch.cuda(), loss_func = F.cross_entropy, metrics=accuracy, cbs=cbs)"
      ],
      "execution_count": 0,
      "outputs": []
    },
    {
      "cell_type": "code",
      "metadata": {
        "id": "Imfosk8BonJI",
        "colab_type": "code",
        "colab": {}
      },
      "source": [
        "from fastai2.callback.hook import *\n",
        "\n",
        "# set callbacks\n",
        "cbs = [] #ActivationStats(with_hist=True)\n",
        "\n",
        "# get learner w/given arch + dls + loss_func\n",
        "def get_learner(dls, arch, loss_func = F.cross_entropy):\n",
        "  return Learner(dls, arch.cuda(), loss_func, metrics=accuracy, cbs=cbs)\n",
        "\n",
        "# Define learners\n",
        "\n",
        "# learn in image space\n",
        "learn_cnn    = get_learner(im_dls, simple_cnn)\n",
        "learn_resnet = get_learner(im_dls, resnet)\n",
        "\n",
        "# learn in k space\n",
        "k_learn_cnn    = get_learner(k_dls, k_simple_cnn)\n",
        "k_learn_resnet = get_learner(k_dls, k_resnet)\n",
        "\n",
        "# learn in k_log_abs space (one-channel input so simple_cnn & resnet)\n",
        "k_abs_learn_cnn    = get_learner(k_abs_dls, simple_cnn)\n",
        "k_abs_learn_resnet = get_learner(k_abs_dls, resnet)\n",
        "\n",
        "# learn.summary()\n",
        "\n",
        "# EXPORT\n",
        "# save model's trained weights\n",
        "def export(learn, fname, stage): \n",
        "  learn.export(f\"{EXPORT_DIR}/{fname}-{stage}-export.pkl\")\n",
        "\n",
        "def load(fname, stage, cpu=False):\n",
        "  return load_learner(f\"{EXPORT_DIR}/{fname}-{stage}-export.pkl\", cpu=cpu)"
      ],
      "execution_count": 0,
      "outputs": []
    },
    {
      "cell_type": "markdown",
      "metadata": {
        "id": "IQ8gfyjCFAST",
        "colab_type": "text"
      },
      "source": [
        "# Train"
      ]
    },
    {
      "cell_type": "markdown",
      "metadata": {
        "id": "27yJzwXRuFMU",
        "colab_type": "text"
      },
      "source": [
        "Baseline random: predict 1 out of 10 classes, expect 10% accuracy from random predictions.\n",
        "\n",
        "Outcomes:\n",
        "\n",
        "| Space     | Learner            | Accuracy | Time per Epoch | LR     | n_epoch | momentum | arch      |\n",
        "|-----------|--------------------|----------|----------------|--------|---------|----------|-----------|\n",
        "| image     | learn_cnn          | 93.74%   |                | 0.6    | 1       | 1cycle   | xresnet18 |\n",
        "| image     | learn_resnet       | 97.89%   |                | 1.5e-2 | 1       | 1cycle   | xresnet18 |\n",
        "| complex k | k_learn_cnn        | 92.05%   | 51sec          | 0.33   | 1       | 1cycle   | xresnet18 |\n",
        "| complex k | k_learn_resnet     | 96.25%   | 55sec          | 5.3e-3 | 1       | 1cycle   | xresnet18 |\n",
        "| log abs k | k_abs_learn_cnn    | 63.71%   | 52sec          | 0.33   | 1       | 1cycle   | xresnet18 |\n",
        "| log abs k | k_abs_learn_resnet | 73.87%   | 1min 59sec     | 0.03   | 1       | 1cycle   | xresnet18 |\n",
        "\n",
        "\n",
        "\n",
        "- learn_cnn: learn.fit_one_cycle(n_epoch=1, lr=0.6), accuracy 93.74%\n",
        "- learn_resnet: learn.fit_one_cycle(n_epoch=1, lr=1.5e-2), accuracy 97.89%\n",
        "\n",
        "- k_learn_cnn, learn.fit_one_cycle(n_epoch=1, lr=0.33), accuracy 92.05% - time per epoch: 51sec\n",
        "- k_learn_resnet, learn.fit_one_cycle(n_epoch=1, lr=5.3e-3), accuracy 96.25% - time per epoch: 55sec\n",
        "\n",
        "- k_abs_learn_cnn, learn.fit_one_cycle(n_epoch=1, lr=0.33), accuracy 63.71% - time per epoch: 52sec\n",
        "- k_abs_learn_resnet, learn.fit_one_cycle(n_epoch=1, lr=0.03), accuracy 73.87% - time per epoch: 1min 59sec"
      ]
    },
    {
      "cell_type": "code",
      "metadata": {
        "id": "F5YbncaCeAi6",
        "colab_type": "code",
        "colab": {}
      },
      "source": [
        ""
      ],
      "execution_count": 0,
      "outputs": []
    },
    {
      "cell_type": "markdown",
      "metadata": {
        "id": "2jgpFh6QQm-n",
        "colab_type": "text"
      },
      "source": [
        "## im space cnn"
      ]
    },
    {
      "cell_type": "code",
      "metadata": {
        "id": "fbBARZf1V-8s",
        "colab_type": "code",
        "colab": {}
      },
      "source": [
        "# # to load from saved version:\n",
        "# learn = load(\"mnist_learn_cnn_no_aug\", \"epoch-5\")\n",
        "# learn.dls=learn_cnn.dls"
      ],
      "execution_count": 0,
      "outputs": []
    },
    {
      "cell_type": "code",
      "metadata": {
        "colab_type": "code",
        "outputId": "a70bda72-311e-44be-f949-30a009713302",
        "id": "qdciZBcgeAqL",
        "colab": {
          "base_uri": "https://localhost:8080/",
          "height": 300
        }
      },
      "source": [
        "learn = learn_cnn\n",
        "learn.lr_find()\n",
        "\n",
        "# learn.summary()"
      ],
      "execution_count": 0,
      "outputs": [
        {
          "output_type": "display_data",
          "data": {
            "text/html": [
              ""
            ],
            "text/plain": [
              "<IPython.core.display.HTML object>"
            ]
          },
          "metadata": {
            "tags": []
          }
        },
        {
          "output_type": "execute_result",
          "data": {
            "text/plain": [
              "SuggestedLRs(lr_min=0.2290867567062378, lr_steep=0.0063095735386013985)"
            ]
          },
          "metadata": {
            "tags": []
          },
          "execution_count": 29
        },
        {
          "output_type": "display_data",
          "data": {
            "image/png": "[encoded data removed]",
            "text/plain": [
              "<Figure size 432x288 with 1 Axes>"
            ]
          },
          "metadata": {
            "tags": [],
            "needs_background": "light"
          }
        }
      ]
    },
    {
      "cell_type": "code",
      "metadata": {
        "colab_type": "code",
        "outputId": "6889c5ac-14c8-4d44-e51d-32c837b8239b",
        "id": "8BfwW2I5eAqO",
        "colab": {
          "base_uri": "https://localhost:8080/",
          "height": 204
        }
      },
      "source": [
        "learn.fit_one_cycle(n_epoch=5, lr=1e-3)"
      ],
      "execution_count": 0,
      "outputs": [
        {
          "output_type": "display_data",
          "data": {
            "text/html": [
              "<table border=\"1\" class=\"dataframe\">\n",
              "  <thead>\n",
              "    <tr style=\"text-align: left;\">\n",
              "      <th>epoch</th>\n",
              "      <th>train_loss</th>\n",
              "      <th>valid_loss</th>\n",
              "      <th>accuracy</th>\n",
              "      <th>time</th>\n",
              "    </tr>\n",
              "  </thead>\n",
              "  <tbody>\n",
              "    <tr>\n",
              "      <td>0</td>\n",
              "      <td>1.980742</td>\n",
              "      <td>1.899517</td>\n",
              "      <td>0.330446</td>\n",
              "      <td>00:27</td>\n",
              "    </tr>\n",
              "    <tr>\n",
              "      <td>1</td>\n",
              "      <td>1.667020</td>\n",
              "      <td>1.596420</td>\n",
              "      <td>0.472102</td>\n",
              "      <td>00:27</td>\n",
              "    </tr>\n",
              "    <tr>\n",
              "      <td>2</td>\n",
              "      <td>1.463947</td>\n",
              "      <td>1.508429</td>\n",
              "      <td>0.494522</td>\n",
              "      <td>00:27</td>\n",
              "    </tr>\n",
              "    <tr>\n",
              "      <td>3</td>\n",
              "      <td>1.347570</td>\n",
              "      <td>1.285852</td>\n",
              "      <td>0.589554</td>\n",
              "      <td>00:28</td>\n",
              "    </tr>\n",
              "    <tr>\n",
              "      <td>4</td>\n",
              "      <td>1.272114</td>\n",
              "      <td>1.236955</td>\n",
              "      <td>0.617834</td>\n",
              "      <td>00:27</td>\n",
              "    </tr>\n",
              "  </tbody>\n",
              "</table>"
            ],
            "text/plain": [
              "<IPython.core.display.HTML object>"
            ]
          },
          "metadata": {
            "tags": []
          }
        }
      ]
    },
    {
      "cell_type": "code",
      "metadata": {
        "id": "m9bpittO9iiN",
        "colab_type": "code",
        "colab": {}
      },
      "source": [
        "export(learn, \"mnist_learn_cnn_no_aug\", \"epoch-5\")"
      ],
      "execution_count": 0,
      "outputs": []
    },
    {
      "cell_type": "markdown",
      "metadata": {
        "id": "6oZhXYpAQrHH",
        "colab_type": "text"
      },
      "source": [
        "## im sp resnet"
      ]
    },
    {
      "cell_type": "code",
      "metadata": {
        "colab_type": "code",
        "outputId": "f3b16ae4-f666-48fd-d1c9-f35cb253b6c4",
        "id": "lutLsxDEeAqU",
        "colab": {
          "base_uri": "https://localhost:8080/",
          "height": 300
        }
      },
      "source": [
        "learn = learn_resnet\n",
        "learn.lr_find()"
      ],
      "execution_count": 0,
      "outputs": [
        {
          "output_type": "display_data",
          "data": {
            "text/html": [
              ""
            ],
            "text/plain": [
              "<IPython.core.display.HTML object>"
            ]
          },
          "metadata": {
            "tags": []
          }
        },
        {
          "output_type": "execute_result",
          "data": {
            "text/plain": [
              "SuggestedLRs(lr_min=0.002290867641568184, lr_steep=0.0003981071640737355)"
            ]
          },
          "metadata": {
            "tags": []
          },
          "execution_count": 151
        },
        {
          "output_type": "display_data",
          "data": {
            "image/png": "[encoded data removed]",
            "text/plain": [
              "<Figure size 432x288 with 1 Axes>"
            ]
          },
          "metadata": {
            "tags": [],
            "needs_background": "light"
          }
        }
      ]
    },
    {
      "cell_type": "code",
      "metadata": {
        "id": "6QxaaerTP9fg",
        "colab_type": "code",
        "outputId": "7cc07fb9-27f9-443d-91bb-3d4b2475ac97",
        "colab": {
          "base_uri": "https://localhost:8080/",
          "height": 204
        }
      },
      "source": [
        "learn.fit_one_cycle(n_epoch=5, lr=2e-3)"
      ],
      "execution_count": 0,
      "outputs": [
        {
          "output_type": "display_data",
          "data": {
            "text/html": [
              "<table border=\"1\" class=\"dataframe\">\n",
              "  <thead>\n",
              "    <tr style=\"text-align: left;\">\n",
              "      <th>epoch</th>\n",
              "      <th>train_loss</th>\n",
              "      <th>valid_loss</th>\n",
              "      <th>accuracy</th>\n",
              "      <th>time</th>\n",
              "    </tr>\n",
              "  </thead>\n",
              "  <tbody>\n",
              "    <tr>\n",
              "      <td>0</td>\n",
              "      <td>1.679066</td>\n",
              "      <td>2.198514</td>\n",
              "      <td>0.355924</td>\n",
              "      <td>00:34</td>\n",
              "    </tr>\n",
              "    <tr>\n",
              "      <td>1</td>\n",
              "      <td>1.265978</td>\n",
              "      <td>1.624911</td>\n",
              "      <td>0.510318</td>\n",
              "      <td>00:34</td>\n",
              "    </tr>\n",
              "    <tr>\n",
              "      <td>2</td>\n",
              "      <td>1.028699</td>\n",
              "      <td>0.957301</td>\n",
              "      <td>0.680764</td>\n",
              "      <td>00:33</td>\n",
              "    </tr>\n",
              "    <tr>\n",
              "      <td>3</td>\n",
              "      <td>0.861215</td>\n",
              "      <td>0.824852</td>\n",
              "      <td>0.736815</td>\n",
              "      <td>00:33</td>\n",
              "    </tr>\n",
              "    <tr>\n",
              "      <td>4</td>\n",
              "      <td>0.754670</td>\n",
              "      <td>0.767734</td>\n",
              "      <td>0.750064</td>\n",
              "      <td>00:34</td>\n",
              "    </tr>\n",
              "  </tbody>\n",
              "</table>"
            ],
            "text/plain": [
              "<IPython.core.display.HTML object>"
            ]
          },
          "metadata": {
            "tags": []
          }
        }
      ]
    },
    {
      "cell_type": "code",
      "metadata": {
        "id": "2q1GEn6_KG6N",
        "colab_type": "code",
        "colab": {}
      },
      "source": [
        "export(learn, \"mnist_learn_resnet_no_aug\", \"epoch5\")"
      ],
      "execution_count": 0,
      "outputs": []
    },
    {
      "cell_type": "markdown",
      "metadata": {
        "id": "22b-AQs2QthD",
        "colab_type": "text"
      },
      "source": [
        "## kspace cnn"
      ]
    },
    {
      "cell_type": "code",
      "metadata": {
        "id": "5RIyOCSdQQW7",
        "colab_type": "code",
        "outputId": "def68481-85b3-4485-fe0f-b5b7c8e85f12",
        "colab": {
          "base_uri": "https://localhost:8080/",
          "height": 300
        }
      },
      "source": [
        "learn = k_learn_cnn\n",
        "learn.lr_find()"
      ],
      "execution_count": 0,
      "outputs": [
        {
          "output_type": "display_data",
          "data": {
            "text/html": [
              ""
            ],
            "text/plain": [
              "<IPython.core.display.HTML object>"
            ]
          },
          "metadata": {
            "tags": []
          }
        },
        {
          "output_type": "execute_result",
          "data": {
            "text/plain": [
              "SuggestedLRs(lr_min=0.2754228591918945, lr_steep=0.00015848931798245758)"
            ]
          },
          "metadata": {
            "tags": []
          },
          "execution_count": 153
        },
        {
          "output_type": "display_data",
          "data": {
            "image/png": "[encoded data removed]",
            "text/plain": [
              "<Figure size 432x288 with 1 Axes>"
            ]
          },
          "metadata": {
            "tags": [],
            "needs_background": "light"
          }
        }
      ]
    },
    {
      "cell_type": "code",
      "metadata": {
        "id": "h059Q83SQRfI",
        "colab_type": "code",
        "outputId": "c59a714c-3657-4390-a818-34639417ade3",
        "colab": {
          "base_uri": "https://localhost:8080/",
          "height": 204
        }
      },
      "source": [
        "learn.fit_one_cycle(n_epoch=5, lr=0.27)"
      ],
      "execution_count": 0,
      "outputs": [
        {
          "output_type": "display_data",
          "data": {
            "text/html": [
              "<table border=\"1\" class=\"dataframe\">\n",
              "  <thead>\n",
              "    <tr style=\"text-align: left;\">\n",
              "      <th>epoch</th>\n",
              "      <th>train_loss</th>\n",
              "      <th>valid_loss</th>\n",
              "      <th>accuracy</th>\n",
              "      <th>time</th>\n",
              "    </tr>\n",
              "  </thead>\n",
              "  <tbody>\n",
              "    <tr>\n",
              "      <td>0</td>\n",
              "      <td>1.918355</td>\n",
              "      <td>1.964417</td>\n",
              "      <td>0.290701</td>\n",
              "      <td>00:28</td>\n",
              "    </tr>\n",
              "    <tr>\n",
              "      <td>1</td>\n",
              "      <td>1.648122</td>\n",
              "      <td>1.652671</td>\n",
              "      <td>0.438726</td>\n",
              "      <td>00:28</td>\n",
              "    </tr>\n",
              "    <tr>\n",
              "      <td>2</td>\n",
              "      <td>1.541369</td>\n",
              "      <td>1.544602</td>\n",
              "      <td>0.468280</td>\n",
              "      <td>00:27</td>\n",
              "    </tr>\n",
              "    <tr>\n",
              "      <td>3</td>\n",
              "      <td>1.464210</td>\n",
              "      <td>1.402949</td>\n",
              "      <td>0.533248</td>\n",
              "      <td>00:27</td>\n",
              "    </tr>\n",
              "    <tr>\n",
              "      <td>4</td>\n",
              "      <td>1.404009</td>\n",
              "      <td>1.381637</td>\n",
              "      <td>0.543185</td>\n",
              "      <td>00:27</td>\n",
              "    </tr>\n",
              "  </tbody>\n",
              "</table>"
            ],
            "text/plain": [
              "<IPython.core.display.HTML object>"
            ]
          },
          "metadata": {
            "tags": []
          }
        }
      ]
    },
    {
      "cell_type": "code",
      "metadata": {
        "id": "WK0z3zdaKL6S",
        "colab_type": "code",
        "colab": {}
      },
      "source": [
        "export(learn, \"mnist_k_learn_cnn_no_aug\", \"epoch5\")"
      ],
      "execution_count": 0,
      "outputs": []
    },
    {
      "cell_type": "markdown",
      "metadata": {
        "id": "KFAeHOLBQv8G",
        "colab_type": "text"
      },
      "source": [
        "## kspace resnet"
      ]
    },
    {
      "cell_type": "code",
      "metadata": {
        "id": "gYriaCDGQSWP",
        "colab_type": "code",
        "outputId": "706a21bb-4843-4fbd-fe5d-d4081db6e4d2",
        "colab": {
          "base_uri": "https://localhost:8080/",
          "height": 301
        }
      },
      "source": [
        "learn = k_learn_resnet\n",
        "learn.lr_find()"
      ],
      "execution_count": 0,
      "outputs": [
        {
          "output_type": "display_data",
          "data": {
            "text/html": [
              ""
            ],
            "text/plain": [
              "<IPython.core.display.HTML object>"
            ]
          },
          "metadata": {
            "tags": []
          }
        },
        {
          "output_type": "execute_result",
          "data": {
            "text/plain": [
              "SuggestedLRs(lr_min=0.002290867641568184, lr_steep=0.002511886414140463)"
            ]
          },
          "metadata": {
            "tags": []
          },
          "execution_count": 155
        },
        {
          "output_type": "display_data",
          "data": {
            "image/png": "[encoded data removed]",
            "text/plain": [
              "<Figure size 432x288 with 1 Axes>"
            ]
          },
          "metadata": {
            "tags": [],
            "needs_background": "light"
          }
        }
      ]
    },
    {
      "cell_type": "code",
      "metadata": {
        "id": "1HVe_MzTQSkE",
        "colab_type": "code",
        "outputId": "ff9da058-63cd-4d24-8d0a-7722f467ba04",
        "colab": {
          "base_uri": "https://localhost:8080/",
          "height": 204
        }
      },
      "source": [
        "learn.fit_one_cycle(n_epoch=5, lr=2e-3)"
      ],
      "execution_count": 0,
      "outputs": [
        {
          "output_type": "display_data",
          "data": {
            "text/html": [
              "<table border=\"1\" class=\"dataframe\">\n",
              "  <thead>\n",
              "    <tr style=\"text-align: left;\">\n",
              "      <th>epoch</th>\n",
              "      <th>train_loss</th>\n",
              "      <th>valid_loss</th>\n",
              "      <th>accuracy</th>\n",
              "      <th>time</th>\n",
              "    </tr>\n",
              "  </thead>\n",
              "  <tbody>\n",
              "    <tr>\n",
              "      <td>0</td>\n",
              "      <td>1.910409</td>\n",
              "      <td>3.634456</td>\n",
              "      <td>0.217325</td>\n",
              "      <td>01:31</td>\n",
              "    </tr>\n",
              "    <tr>\n",
              "      <td>1</td>\n",
              "      <td>1.552334</td>\n",
              "      <td>1.517352</td>\n",
              "      <td>0.480764</td>\n",
              "      <td>01:31</td>\n",
              "    </tr>\n",
              "    <tr>\n",
              "      <td>2</td>\n",
              "      <td>1.383424</td>\n",
              "      <td>1.292485</td>\n",
              "      <td>0.560255</td>\n",
              "      <td>01:31</td>\n",
              "    </tr>\n",
              "    <tr>\n",
              "      <td>3</td>\n",
              "      <td>1.244521</td>\n",
              "      <td>1.220755</td>\n",
              "      <td>0.590828</td>\n",
              "      <td>01:32</td>\n",
              "    </tr>\n",
              "    <tr>\n",
              "      <td>4</td>\n",
              "      <td>1.199688</td>\n",
              "      <td>1.162281</td>\n",
              "      <td>0.608917</td>\n",
              "      <td>01:31</td>\n",
              "    </tr>\n",
              "  </tbody>\n",
              "</table>"
            ],
            "text/plain": [
              "<IPython.core.display.HTML object>"
            ]
          },
          "metadata": {
            "tags": []
          }
        }
      ]
    },
    {
      "cell_type": "code",
      "metadata": {
        "id": "c69b43XPKPil",
        "colab_type": "code",
        "colab": {}
      },
      "source": [
        "export(learn, \"mnist_k_learn_resnet\", \"epoch5\")"
      ],
      "execution_count": 0,
      "outputs": []
    },
    {
      "cell_type": "markdown",
      "metadata": {
        "id": "59clUn4oQUAl",
        "colab_type": "text"
      },
      "source": [
        "## kspace abs cnn"
      ]
    },
    {
      "cell_type": "code",
      "metadata": {
        "colab_type": "code",
        "id": "3H-mos6RQfHr",
        "outputId": "d95f5daf-98c8-4ee7-f993-ce5a8a9f198b",
        "colab": {
          "base_uri": "https://localhost:8080/",
          "height": 300
        }
      },
      "source": [
        "learn = k_abs_learn_cnn\n",
        "learn.lr_find()"
      ],
      "execution_count": 0,
      "outputs": [
        {
          "output_type": "display_data",
          "data": {
            "text/html": [
              ""
            ],
            "text/plain": [
              "<IPython.core.display.HTML object>"
            ]
          },
          "metadata": {
            "tags": []
          }
        },
        {
          "output_type": "execute_result",
          "data": {
            "text/plain": [
              "SuggestedLRs(lr_min=0.2290867567062378, lr_steep=0.0008317637839354575)"
            ]
          },
          "metadata": {
            "tags": []
          },
          "execution_count": 157
        },
        {
          "output_type": "display_data",
          "data": {
            "image/png": "[encoded data removed]",
            "text/plain": [
              "<Figure size 432x288 with 1 Axes>"
            ]
          },
          "metadata": {
            "tags": [],
            "needs_background": "light"
          }
        }
      ]
    },
    {
      "cell_type": "code",
      "metadata": {
        "colab_type": "code",
        "id": "Wi3-F8QSQfHu",
        "outputId": "55dbd304-f2e5-495f-abfa-7f5853fb8076",
        "colab": {
          "base_uri": "https://localhost:8080/",
          "height": 204
        }
      },
      "source": [
        "learn.fit_one_cycle(n_epoch=5, lr=0.23)"
      ],
      "execution_count": 0,
      "outputs": [
        {
          "output_type": "display_data",
          "data": {
            "text/html": [
              "<table border=\"1\" class=\"dataframe\">\n",
              "  <thead>\n",
              "    <tr style=\"text-align: left;\">\n",
              "      <th>epoch</th>\n",
              "      <th>train_loss</th>\n",
              "      <th>valid_loss</th>\n",
              "      <th>accuracy</th>\n",
              "      <th>time</th>\n",
              "    </tr>\n",
              "  </thead>\n",
              "  <tbody>\n",
              "    <tr>\n",
              "      <td>0</td>\n",
              "      <td>1.914114</td>\n",
              "      <td>1.876701</td>\n",
              "      <td>0.339618</td>\n",
              "      <td>00:27</td>\n",
              "    </tr>\n",
              "    <tr>\n",
              "      <td>1</td>\n",
              "      <td>1.628206</td>\n",
              "      <td>2.277196</td>\n",
              "      <td>0.270064</td>\n",
              "      <td>00:27</td>\n",
              "    </tr>\n",
              "    <tr>\n",
              "      <td>2</td>\n",
              "      <td>1.523328</td>\n",
              "      <td>1.536377</td>\n",
              "      <td>0.479236</td>\n",
              "      <td>00:27</td>\n",
              "    </tr>\n",
              "    <tr>\n",
              "      <td>3</td>\n",
              "      <td>1.455105</td>\n",
              "      <td>1.449604</td>\n",
              "      <td>0.512611</td>\n",
              "      <td>00:27</td>\n",
              "    </tr>\n",
              "    <tr>\n",
              "      <td>4</td>\n",
              "      <td>1.413163</td>\n",
              "      <td>1.432026</td>\n",
              "      <td>0.512611</td>\n",
              "      <td>00:27</td>\n",
              "    </tr>\n",
              "  </tbody>\n",
              "</table>"
            ],
            "text/plain": [
              "<IPython.core.display.HTML object>"
            ]
          },
          "metadata": {
            "tags": []
          }
        }
      ]
    },
    {
      "cell_type": "code",
      "metadata": {
        "id": "HXH-JR2sesNt",
        "colab_type": "code",
        "colab": {}
      },
      "source": [
        "export(learn, \"mnist_k_abs_learn_cnn_no_aug\", \"epoch5\")"
      ],
      "execution_count": 0,
      "outputs": []
    },
    {
      "cell_type": "markdown",
      "metadata": {
        "id": "g3f7i03TRQL9",
        "colab_type": "text"
      },
      "source": [
        "## kspace abs resnet"
      ]
    },
    {
      "cell_type": "code",
      "metadata": {
        "colab_type": "code",
        "id": "CTcckMELQf5U",
        "outputId": "6786edd7-b705-4de6-c581-164e4bbcea69",
        "colab": {
          "base_uri": "https://localhost:8080/",
          "height": 300
        }
      },
      "source": [
        "learn = k_abs_learn_resnet\n",
        "learn.lr_find()"
      ],
      "execution_count": 0,
      "outputs": [
        {
          "output_type": "display_data",
          "data": {
            "text/html": [
              ""
            ],
            "text/plain": [
              "<IPython.core.display.HTML object>"
            ]
          },
          "metadata": {
            "tags": []
          }
        },
        {
          "output_type": "execute_result",
          "data": {
            "text/plain": [
              "SuggestedLRs(lr_min=0.09120108485221863, lr_steep=0.00015848931798245758)"
            ]
          },
          "metadata": {
            "tags": []
          },
          "execution_count": 159
        },
        {
          "output_type": "display_data",
          "data": {
            "image/png": "[encoded data removed]",
            "text/plain": [
              "<Figure size 432x288 with 1 Axes>"
            ]
          },
          "metadata": {
            "tags": [],
            "needs_background": "light"
          }
        }
      ]
    },
    {
      "cell_type": "code",
      "metadata": {
        "colab_type": "code",
        "id": "PiXejT7iQf5c",
        "outputId": "db7a0ff8-7629-4602-af7a-b0598d025f0a",
        "colab": {
          "base_uri": "https://localhost:8080/",
          "height": 204
        }
      },
      "source": [
        "learn.fit_one_cycle(n_epoch=5, lr=2e-3)"
      ],
      "execution_count": 0,
      "outputs": [
        {
          "output_type": "display_data",
          "data": {
            "text/html": [
              "<table border=\"1\" class=\"dataframe\">\n",
              "  <thead>\n",
              "    <tr style=\"text-align: left;\">\n",
              "      <th>epoch</th>\n",
              "      <th>train_loss</th>\n",
              "      <th>valid_loss</th>\n",
              "      <th>accuracy</th>\n",
              "      <th>time</th>\n",
              "    </tr>\n",
              "  </thead>\n",
              "  <tbody>\n",
              "    <tr>\n",
              "      <td>0</td>\n",
              "      <td>1.777845</td>\n",
              "      <td>1.927378</td>\n",
              "      <td>0.324076</td>\n",
              "      <td>00:33</td>\n",
              "    </tr>\n",
              "    <tr>\n",
              "      <td>1</td>\n",
              "      <td>1.549619</td>\n",
              "      <td>1.528429</td>\n",
              "      <td>0.464204</td>\n",
              "      <td>00:33</td>\n",
              "    </tr>\n",
              "    <tr>\n",
              "      <td>2</td>\n",
              "      <td>1.442735</td>\n",
              "      <td>1.527989</td>\n",
              "      <td>0.451975</td>\n",
              "      <td>00:33</td>\n",
              "    </tr>\n",
              "    <tr>\n",
              "      <td>3</td>\n",
              "      <td>1.342948</td>\n",
              "      <td>1.366364</td>\n",
              "      <td>0.527134</td>\n",
              "      <td>00:33</td>\n",
              "    </tr>\n",
              "    <tr>\n",
              "      <td>4</td>\n",
              "      <td>1.286723</td>\n",
              "      <td>1.294248</td>\n",
              "      <td>0.553121</td>\n",
              "      <td>00:33</td>\n",
              "    </tr>\n",
              "  </tbody>\n",
              "</table>"
            ],
            "text/plain": [
              "<IPython.core.display.HTML object>"
            ]
          },
          "metadata": {
            "tags": []
          }
        }
      ]
    },
    {
      "cell_type": "code",
      "metadata": {
        "id": "591iA1toexXH",
        "colab_type": "code",
        "colab": {}
      },
      "source": [
        "export(learn, \"mnist_k_abs_learn_resnet_no_aug\", \"epoch5\")"
      ],
      "execution_count": 0,
      "outputs": []
    },
    {
      "cell_type": "code",
      "metadata": {
        "colab_type": "code",
        "id": "6iPe2EuheAqu",
        "colab": {}
      },
      "source": [
        "#learn.activation_stats.plot_layer_stats(-2)\n",
        "#learn.activation_stats.plot_layer_stats(0)"
      ],
      "execution_count": 0,
      "outputs": []
    },
    {
      "cell_type": "markdown",
      "metadata": {
        "id": "x5sLBH19Qomh",
        "colab_type": "text"
      },
      "source": [
        "# Push exported files :)"
      ]
    },
    {
      "cell_type": "code",
      "metadata": {
        "id": "2FFqOodCQUQm",
        "colab_type": "code",
        "colab": {}
      },
      "source": [
        ""
      ],
      "execution_count": 0,
      "outputs": []
    },
    {
      "cell_type": "markdown",
      "metadata": {
        "colab_type": "text",
        "id": "Ykk8x813eAqy"
      },
      "source": [
        "\n",
        "# Old"
      ]
    },
    {
      "cell_type": "code",
      "metadata": {
        "colab_type": "code",
        "id": "0FDxyEFTeAq0",
        "colab": {}
      },
      "source": [
        "# for Imagenette data\n",
        "\n",
        "# convert filename stem to category\n",
        "lbl_dict = dict(\n",
        "    n01440764='tench',\n",
        "    n02102040='English springer',\n",
        "    n02979186='cassette player',\n",
        "    n03000684='chain saw',\n",
        "    n03028079='church',\n",
        "    n03394916='French horn',\n",
        "    n03417042='garbage truck',\n",
        "    n03425413='gas pump',\n",
        "    n03445777='golf ball',\n",
        "    n03888257='parachute'\n",
        ")\n",
        "\n",
        "y_tfms = [parent_label, lbl_dict.__getitem__, Categorize]\n"
      ],
      "execution_count": 0,
      "outputs": []
    },
    {
      "cell_type": "code",
      "metadata": {
        "id": "9p5ZjgQirPIY",
        "colab_type": "code",
        "outputId": "94b7ec4a-ec7f-4493-e919-c79a58d68db0",
        "colab": {
          "base_uri": "https://localhost:8080/",
          "height": 300
        }
      },
      "source": [
        "learn = k_learn_cnn\n",
        "learn.lr_find()"
      ],
      "execution_count": 0,
      "outputs": [
        {
          "output_type": "display_data",
          "data": {
            "text/html": [
              ""
            ],
            "text/plain": [
              "<IPython.core.display.HTML object>"
            ]
          },
          "metadata": {
            "tags": []
          }
        },
        {
          "output_type": "execute_result",
          "data": {
            "text/plain": [
              "SuggestedLRs(lr_min=0.15848932266235352, lr_steep=0.43651583790779114)"
            ]
          },
          "metadata": {
            "tags": []
          },
          "execution_count": 320
        },
        {
          "output_type": "display_data",
          "data": {
            "image/png": "[encoded data removed]",
            "text/plain": [
              "<Figure size 432x288 with 1 Axes>"
            ]
          },
          "metadata": {
            "tags": [],
            "needs_background": "light"
          }
        }
      ]
    },
    {
      "cell_type": "code",
      "metadata": {
        "id": "GEZhkX1c5T8b",
        "colab_type": "code",
        "outputId": "72823014-7d22-4777-9f9f-199abf2a0e55",
        "colab": {
          "base_uri": "https://localhost:8080/",
          "height": 80
        }
      },
      "source": [
        "learn.fit_one_cycle(n_epoch=1, lr=0.33)"
      ],
      "execution_count": 0,
      "outputs": [
        {
          "output_type": "display_data",
          "data": {
            "text/html": [
              "<table border=\"1\" class=\"dataframe\">\n",
              "  <thead>\n",
              "    <tr style=\"text-align: left;\">\n",
              "      <th>epoch</th>\n",
              "      <th>train_loss</th>\n",
              "      <th>valid_loss</th>\n",
              "      <th>accuracy</th>\n",
              "      <th>time</th>\n",
              "    </tr>\n",
              "  </thead>\n",
              "  <tbody>\n",
              "    <tr>\n",
              "      <td>0</td>\n",
              "      <td>0.452725</td>\n",
              "      <td>0.398170</td>\n",
              "      <td>0.955700</td>\n",
              "      <td>00:51</td>\n",
              "    </tr>\n",
              "  </tbody>\n",
              "</table>"
            ],
            "text/plain": [
              "<IPython.core.display.HTML object>"
            ]
          },
          "metadata": {
            "tags": []
          }
        }
      ]
    },
    {
      "cell_type": "code",
      "metadata": {
        "id": "R0qfi-_Op2dk",
        "colab_type": "code",
        "colab": {}
      },
      "source": [
        "learn.fit_one_cycle(n_epoch=5, lr=0.1)"
      ],
      "execution_count": 0,
      "outputs": []
    },
    {
      "cell_type": "code",
      "metadata": {
        "id": "fPt_AsZTFfFd",
        "colab_type": "code",
        "colab": {}
      },
      "source": [
        "#learn.activation_stats.plot_layer_stats(-2)\n",
        "#learn.activation_stats.plot_layer_stats(0)"
      ],
      "execution_count": 0,
      "outputs": []
    },
    {
      "cell_type": "markdown",
      "metadata": {
        "id": "w9-DLhvpE_LI",
        "colab_type": "text"
      },
      "source": [
        "# Old"
      ]
    },
    {
      "cell_type": "code",
      "metadata": {
        "id": "yVrTbNItFAGa",
        "colab_type": "code",
        "colab": {}
      },
      "source": [
        "# for Imagenette data\n",
        "\n",
        "# convert filename stem to category\n",
        "lbl_dict = dict(\n",
        "    n01440764='tench',\n",
        "    n02102040='English springer',\n",
        "    n02979186='cassette player',\n",
        "    n03000684='chain saw',\n",
        "    n03028079='church',\n",
        "    n03394916='French horn',\n",
        "    n03417042='garbage truck',\n",
        "    n03425413='gas pump',\n",
        "    n03445777='golf ball',\n",
        "    n03888257='parachute'\n",
        ")\n",
        "\n",
        "y_tfms = [parent_label, lbl_dict.__getitem__, Categorize]\n"
      ],
      "execution_count": 0,
      "outputs": []
    },
    {
      "cell_type": "code",
      "metadata": {
        "id": "dN-5uuyqI6Ra",
        "colab_type": "code",
        "colab": {}
      },
      "source": [
        "# save original shape to IRFFT can umambiguously decode\n",
        "class SaveShape(Transform):\n",
        "  order = 12\n",
        "\n",
        "  # excluding batch dimension\n",
        "  def save_shape(t:Tensor):\n",
        "    t.set_meta({\"orig_shape\": t.shape[-2:]})\n",
        "    return t"
      ],
      "execution_count": 0,
      "outputs": []
    },
    {
      "cell_type": "code",
      "metadata": {
        "id": "q-QC2IY4I1-B",
        "colab_type": "code",
        "colab": {}
      },
      "source": [
        "# take dataset item (real img, category), convert to (k arr, category)\n",
        "class Real2ComplexKOneSided(Transform):\n",
        "  order = 13 # needs to run after save shape\n",
        "\n",
        "  def encodes(self, t:Tensor): return apply(t, TensorTfms.real2k)\n",
        "\n",
        "\n",
        "  def decodes(self, t_k:Tensor):\n",
        "    t_k_abs         = apply(t_k, TensorTfms.t_abs)\n",
        "    t_k_log_abs     = apply(t_k_abs, TensorTfms.log_abs)\n",
        "\n",
        "    orig_shape = t_k.get_meta(\"orig_shape\")\n",
        "    t_real     = apply(t_k, TensorTfms.k2real(s=orig_shape))\n",
        "    \n",
        "    return ShowK(t_k_log_abs, t_real)"
      ],
      "execution_count": 0,
      "outputs": []
    },
    {
      "cell_type": "code",
      "metadata": {
        "colab_type": "code",
        "id": "kikOsAttFALk",
        "colab": {}
      },
      "source": [
        "# k tensor that knows how to show itself\n",
        "class K():\n",
        "  def __init__(self, k, orig_shape):\n",
        "    self.k, self.orig_shape = k, orig_shape\n",
        "\n",
        "  def show(self, ctx=None, **kwargs): \n",
        "    rev_img = apply(self.k, TensorTfms.k2real(self.orig_shape))\n",
        "    show_image(rev_img, cmap = \"gray\", title = \"IRFFT\", ctx=ctx, **kwargs)\n",
        "\n",
        "  def to_tensor(self): return self.k"
      ],
      "execution_count": 0,
      "outputs": []
    },
    {
      "cell_type": "code",
      "metadata": {
        "colab_type": "code",
        "id": "XIwa9bXgFALn",
        "colab": {}
      },
      "source": [
        "# convert original img arr to k space\n",
        "class KTfm(Transform):\n",
        "  \n",
        "  # store orig shape so it can be decoded correctly (for showing purposes)\n",
        "  def encodes(self, arr)->Tensor:\n",
        "    return K(apply(arr, TensorTfms.real2k), arr.shape)"
      ],
      "execution_count": 0,
      "outputs": []
    },
    {
      "cell_type": "code",
      "metadata": {
        "id": "PkugVIzYHWEt",
        "colab_type": "code",
        "colab": {}
      },
      "source": [
        "# permute tensor: HW(Complex) to (Complex)HW\n",
        "class Permute(Transform):\n",
        "  order = 1\n",
        "  def encodes(self, t:Tensor):\n",
        "    if t.size(-1) == 2: return t.transpose(-1,-3).transpose(-1,-2)\n",
        "    return t\n",
        "\n",
        "  def decodes(self, t:Tensor):\n",
        "    if t.size(-1) == 2: return t.transpose(-1,-2).transpose(-1,-3)\n",
        "    return t"
      ],
      "execution_count": 0,
      "outputs": []
    },
    {
      "cell_type": "markdown",
      "metadata": {
        "id": "atFvghufXrxu",
        "colab_type": "text"
      },
      "source": [
        "## Old Viz"
      ]
    },
    {
      "cell_type": "code",
      "metadata": {
        "id": "eWLSUASLv7Kp",
        "colab_type": "code",
        "colab": {}
      },
      "source": [
        "def k_show_batch(xb, yb, samples=None, ctxs=None, max_n=6, nrows=None, ncols=2, figsize=None, **kwargs):\n",
        "    \n",
        "    t_k = Complex2Channel().decodes(xb)\n",
        "\n",
        "    t_k_abs         = apply(t_k, TensorTfms.t_abs)\n",
        "    t_k_log_abs     = apply(t_k_abs, TensorTfms.log_abs)\n",
        "\n",
        "    orig_shape = xb[0].get_meta(\"orig_shape\") # assume all shapes in batch equal\n",
        "    t_real     = apply(t_k, TensorTfms.batch_k2real(onesided=False))\n",
        "    \n",
        "    if nrows is None: nrows = max_n//ncols\n",
        "\n",
        "    if figsize is None: figsize = (ncols*6, 2 * nrows * 3)\n",
        "\n",
        "    if ctxs is None: ctxs = get_grid(2*max_n, nrows=2*nrows, ncols=ncols, figsize=figsize)\n",
        "    \n",
        "    for i,ctx in enumerate(ctxs):\n",
        "      row, col = i//ncols, i % ncols\n",
        "\n",
        "      # odd rows show img in k space, even rows show img in real space\n",
        "      arr     = t_k_log_abs if row%2 else t_real\n",
        "      arr_idx = (row//2) * ncols + col\n",
        "      \n",
        "      im      = arr[arr_idx]    \n",
        "      y       = yb[arr_idx]\n",
        "\n",
        "      cmap = \"gray_r\" if row%2 else \"gray\"\n",
        "\n",
        "      ctx.imshow(im, cmap=cmap)\n",
        "      ctx.set_xticklabels([]), ctx.set_yticklabels([])\n",
        "      ctx.set_title(f\"{y}\")\n",
        "      #ctx.set_xlabel(tuple(im.shape))"
      ],
      "execution_count": 0,
      "outputs": []
    },
    {
      "cell_type": "code",
      "metadata": {
        "id": "FL8nm3hxXs_Q",
        "colab_type": "code",
        "colab": {}
      },
      "source": [
        "# shows real & kspace together\n",
        "class ShowK(Tuple):\n",
        "\n",
        "  def show(self, ctx=None, **kwargs): \n",
        "    k,real = self\n",
        "    line = k.new_zeros(k.shape[0], 10)\n",
        "    return show_image(torch.cat([k,line,real], dim=1), title = \"K & Real\", ctx=ctx, **kwargs)"
      ],
      "execution_count": 0,
      "outputs": []
    },
    {
      "cell_type": "code",
      "metadata": {
        "id": "rKprH7DLRc8R",
        "colab_type": "code",
        "colab": {}
      },
      "source": [
        "xb,yb = dls.one_batch()"
      ],
      "execution_count": 0,
      "outputs": []
    },
    {
      "cell_type": "code",
      "metadata": {
        "id": "z0SR1kepZsk_",
        "colab_type": "code",
        "colab": {}
      },
      "source": [
        "xb.shape"
      ],
      "execution_count": 0,
      "outputs": []
    },
    {
      "cell_type": "code",
      "metadata": {
        "id": "GMV5uSDbAUWT",
        "colab_type": "code",
        "colab": {}
      },
      "source": [
        "t_k = tensor(xb[0])\n",
        "t_k.shape"
      ],
      "execution_count": 0,
      "outputs": []
    },
    {
      "cell_type": "code",
      "metadata": {
        "id": "pZMykvrjAk-U",
        "colab_type": "code",
        "colab": {}
      },
      "source": [
        "t_k = Complex2Channel().decodes(t_k)\n",
        "t_k.shape"
      ],
      "execution_count": 0,
      "outputs": []
    },
    {
      "cell_type": "code",
      "metadata": {
        "id": "dy7Jiio5FxK0",
        "colab_type": "code",
        "colab": {}
      },
      "source": [
        "show_k = Real2ComplexK().decodes(t_k)\n",
        "type(show_k)"
      ],
      "execution_count": 0,
      "outputs": []
    },
    {
      "cell_type": "code",
      "metadata": {
        "id": "5egludwNF9_6",
        "colab_type": "code",
        "colab": {}
      },
      "source": [
        "show_k.show(figsize=(6,6), cmap=\"gray_r\")"
      ],
      "execution_count": 0,
      "outputs": []
    }
  ]
}